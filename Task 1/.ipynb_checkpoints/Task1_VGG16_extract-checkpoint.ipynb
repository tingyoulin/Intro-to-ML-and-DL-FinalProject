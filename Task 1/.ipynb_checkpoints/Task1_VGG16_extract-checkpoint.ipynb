{
 "cells": [
  {
   "cell_type": "code",
   "execution_count": 1,
   "metadata": {
    "colab": {
     "base_uri": "https://localhost:8080/",
     "height": 121
    },
    "colab_type": "code",
    "executionInfo": {
     "elapsed": 34505,
     "status": "ok",
     "timestamp": 1576073918710,
     "user": {
      "displayName": "林亭佑",
      "photoUrl": "https://lh3.googleusercontent.com/a-/AAuE7mCa4KdkqST8f-rHXHm_rjYPP9hYtgmAqB7qaLgX=s64",
      "userId": "15671635726506356258"
     },
     "user_tz": -480
    },
    "id": "FvlIv8nMu98o",
    "outputId": "f8dfb460-bc10-474f-d5a9-7f103688c087"
   },
   "outputs": [
    {
     "name": "stdout",
     "output_type": "stream",
     "text": [
      "Go to this URL in a browser: https://accounts.google.com/o/oauth2/auth?client_id=947318989803-6bn6qk8qdgf4n4g3pfee6491hc0brc4i.apps.googleusercontent.com&redirect_uri=urn%3aietf%3awg%3aoauth%3a2.0%3aoob&response_type=code&scope=email%20https%3a%2f%2fwww.googleapis.com%2fauth%2fdocs.test%20https%3a%2f%2fwww.googleapis.com%2fauth%2fdrive%20https%3a%2f%2fwww.googleapis.com%2fauth%2fdrive.photos.readonly%20https%3a%2f%2fwww.googleapis.com%2fauth%2fpeopleapi.readonly\n",
      "\n",
      "Enter your authorization code:\n",
      "··········\n",
      "Mounted at /content/drive\n"
     ]
    }
   ],
   "source": [
    "from google.colab import drive\n",
    "drive.mount('/content/drive')"
   ]
  },
  {
   "cell_type": "markdown",
   "metadata": {
    "colab_type": "text",
    "id": "_VPaVGyil4gi"
   },
   "source": [
    "Data Preprocessing"
   ]
  },
  {
   "cell_type": "code",
   "execution_count": 0,
   "metadata": {
    "colab": {},
    "colab_type": "code",
    "id": "foW-KgLGlRCz"
   },
   "outputs": [],
   "source": [
    "import pandas as pd\n",
    "traindf=pd.read_csv(\"drive/My Drive/Colab Notebooks/Final Project/Task 1/train.csv\")\n",
    "traindf['label'] = traindf['Total rebars'].astype(str)\n",
    "traindf.head()"
   ]
  },
  {
   "cell_type": "code",
   "execution_count": 0,
   "metadata": {
    "colab": {
     "base_uri": "https://localhost:8080/",
     "height": 195
    },
    "colab_type": "code",
    "executionInfo": {
     "elapsed": 1311,
     "status": "ok",
     "timestamp": 1575980941865,
     "user": {
      "displayName": "林亭佑",
      "photoUrl": "https://lh3.googleusercontent.com/a-/AAuE7mCa4KdkqST8f-rHXHm_rjYPP9hYtgmAqB7qaLgX=s64",
      "userId": "15671635726506356258"
     },
     "user_tz": -480
    },
    "id": "ryPhGT8zw4ai",
    "outputId": "299c139a-1790-46a4-eff0-00d7358f2ee1"
   },
   "outputs": [
    {
     "data": {
      "text/html": [
       "<div>\n",
       "<style scoped>\n",
       "    .dataframe tbody tr th:only-of-type {\n",
       "        vertical-align: middle;\n",
       "    }\n",
       "\n",
       "    .dataframe tbody tr th {\n",
       "        vertical-align: top;\n",
       "    }\n",
       "\n",
       "    .dataframe thead th {\n",
       "        text-align: right;\n",
       "    }\n",
       "</style>\n",
       "<table border=\"1\" class=\"dataframe\">\n",
       "  <thead>\n",
       "    <tr style=\"text-align: right;\">\n",
       "      <th></th>\n",
       "      <th>Pic Name</th>\n",
       "    </tr>\n",
       "  </thead>\n",
       "  <tbody>\n",
       "    <tr>\n",
       "      <th>0</th>\n",
       "      <td>test_Depth_9280.png</td>\n",
       "    </tr>\n",
       "    <tr>\n",
       "      <th>1</th>\n",
       "      <td>20191024_10852_Depth_112034.png</td>\n",
       "    </tr>\n",
       "    <tr>\n",
       "      <th>2</th>\n",
       "      <td>test_Depth_14496.png</td>\n",
       "    </tr>\n",
       "    <tr>\n",
       "      <th>3</th>\n",
       "      <td>20190531_105600_Depth_5472.png</td>\n",
       "    </tr>\n",
       "    <tr>\n",
       "      <th>4</th>\n",
       "      <td>20190531_100725_Depth_20817.png</td>\n",
       "    </tr>\n",
       "  </tbody>\n",
       "</table>\n",
       "</div>"
      ],
      "text/plain": [
       "                          Pic Name\n",
       "0              test_Depth_9280.png\n",
       "1  20191024_10852_Depth_112034.png\n",
       "2             test_Depth_14496.png\n",
       "3   20190531_105600_Depth_5472.png\n",
       "4  20190531_100725_Depth_20817.png"
      ]
     },
     "execution_count": 59,
     "metadata": {
      "tags": []
     },
     "output_type": "execute_result"
    }
   ],
   "source": [
    "testdf=pd.read_csv(\"drive/My Drive/Colab Notebooks/Final Project/Task 1/testName.csv\")\n",
    "testdf.head()"
   ]
  },
  {
   "cell_type": "code",
   "execution_count": 0,
   "metadata": {
    "colab": {
     "base_uri": "https://localhost:8080/",
     "height": 67
    },
    "colab_type": "code",
    "executionInfo": {
     "elapsed": 1489,
     "status": "ok",
     "timestamp": 1575987704175,
     "user": {
      "displayName": "林亭佑",
      "photoUrl": "https://lh3.googleusercontent.com/a-/AAuE7mCa4KdkqST8f-rHXHm_rjYPP9hYtgmAqB7qaLgX=s64",
      "userId": "15671635726506356258"
     },
     "user_tz": -480
    },
    "id": "f5elrO8ilfgu",
    "outputId": "9e5fb83a-b2af-4779-a222-0be2cae12ca7"
   },
   "outputs": [
    {
     "name": "stdout",
     "output_type": "stream",
     "text": [
      "Found 517 validated image filenames.\n",
      "Found 172 validated image filenames.\n",
      "Found 101 validated image filenames.\n"
     ]
    }
   ],
   "source": [
    "import os\n",
    "from keras.preprocessing.image import ImageDataGenerator\n",
    "\n",
    "# base_dir = '.\\\\train_img'\n",
    "# train_dir = os.path.join(base_dir, 'train_img')\n",
    "train_dir = 'drive/My Drive/Colab Notebooks/Final Project/Task 1/totalDepthPic'\n",
    "test_dir = 'drive/My Drive/Colab Notebooks/Final Project/Task 1/totalDepthPic'\n",
    "\n",
    "datagen = ImageDataGenerator(\n",
    "        # rotation_range=15,\n",
    "        # shear_range=0.1,\n",
    "        # zoom_range=0.2,\n",
    "        # horizontal_flip=True,\n",
    "        rescale=1./255., \n",
    "        validation_split=0.25\n",
    ")\n",
    "train_generator=datagen.flow_from_dataframe( \n",
    "    dataframe=traindf, \n",
    "    directory=train_dir, \n",
    "    x_col='Pic Name', \n",
    "    y_col='Total rebars', \n",
    "    has_ext=False, \n",
    "    subset=\"training\", \n",
    "    class_mode=\"raw\", \n",
    "    batch_size=20,\n",
    "    target_size=(150, 150)\n",
    "    ) \n",
    "\n",
    "validation_generator=datagen.flow_from_dataframe( \n",
    "    dataframe=traindf, \n",
    "    directory=train_dir,\n",
    "    x_col='Pic Name', \n",
    "    y_col='Total rebars', \n",
    "    has_ext=False, \n",
    "    subset=\"validation\", \n",
    "    class_mode=\"raw\",\n",
    "    batch_size=20,\n",
    "    target_size=(150, 150)\n",
    "    )\n",
    "\n",
    "test_datagen = ImageDataGenerator(rescale=1./255.)\n",
    "test_generator = test_datagen.flow_from_dataframe(\n",
    "    dataframe=testdf,\n",
    "    directory=test_dir,\n",
    "    x_col='Pic Name',\n",
    "    target_size=(150, 150),\n",
    "    color_mode='rgb',\n",
    "    shuffle=False,\n",
    "    class_mode=None\n",
    ")"
   ]
  },
  {
   "cell_type": "code",
   "execution_count": 0,
   "metadata": {
    "colab": {},
    "colab_type": "code",
    "id": "Dn_ES1BsbAHU"
   },
   "outputs": [],
   "source": [
    "for data_batch, labels_batch in train_generator:\n",
    "    print('data batch shape:', data_batch.shape)\n",
    "    print('labels batch shape:', labels_batch.shape)\n",
    "    break"
   ]
  },
  {
   "cell_type": "code",
   "execution_count": 0,
   "metadata": {
    "colab": {},
    "colab_type": "code",
    "id": "OdtXl0JF9cxx"
   },
   "outputs": [],
   "source": [
    "from keras.applications import VGG16\n",
    "\n",
    "conv_base = VGG16(weights='imagenet',\n",
    "                  include_top=False,\n",
    "                  input_shape=(150, 150, 3)\n",
    ")"
   ]
  },
  {
   "cell_type": "code",
   "execution_count": 0,
   "metadata": {
    "colab": {},
    "colab_type": "code",
    "id": "_Qk5zzB4bZoR"
   },
   "outputs": [],
   "source": [
    "conv_base.summary()"
   ]
  },
  {
   "cell_type": "code",
   "execution_count": 0,
   "metadata": {
    "colab": {
     "base_uri": "https://localhost:8080/",
     "height": 50
    },
    "colab_type": "code",
    "executionInfo": {
     "elapsed": 21901,
     "status": "ok",
     "timestamp": 1575982388280,
     "user": {
      "displayName": "林亭佑",
      "photoUrl": "https://lh3.googleusercontent.com/a-/AAuE7mCa4KdkqST8f-rHXHm_rjYPP9hYtgmAqB7qaLgX=s64",
      "userId": "15671635726506356258"
     },
     "user_tz": -480
    },
    "id": "pY5SLfcplfva",
    "outputId": "a19356b6-e14b-4193-a379-94418bb0310a"
   },
   "outputs": [
    {
     "name": "stdout",
     "output_type": "stream",
     "text": [
      "\n",
      "\n"
     ]
    }
   ],
   "source": [
    "import numpy as np\n",
    "\n",
    "def extract_features(generator, sample_count):\n",
    "    features = np.zeros(shape=(sample_count, 4, 4, 512))\n",
    "    labels = np.zeros(shape=(sample_count))\n",
    "    batch_size = generator.batch_size\n",
    "    # generator = datagen.flow_from_directory(\n",
    "    #     directory,\n",
    "    #     target_size=(150, 150),\n",
    "    #     batch_size=batch_size,\n",
    "    #     class_mode='binary')\n",
    "    i = 0\n",
    "\n",
    "    if generator.class_mode is None:\n",
    "      for inputs_batch in generator:\n",
    "        features_batch = conv_base.predict(inputs_batch)\n",
    "        features[i : (i + features_batch.shape[0])] = features_batch   # 避免最後一個batch的shape不合\n",
    "        i += features_batch.shape[0]\n",
    "        if i >= sample_count:\n",
    "          # Note that since generators yield data indefinitely in a loop,\n",
    "          # we must `break` after every image has been seen once.\n",
    "          break\n",
    "      return features\n",
    "    else:\n",
    "      for inputs_batch, labels_batch in generator:\n",
    "        features_batch = conv_base.predict(inputs_batch)\n",
    "        # features[i * batch_size : (i + 1) * batch_size] = features_batch\n",
    "        features[i : (i + features_batch.shape[0])] = features_batch   # 避免最後一個batch的shape不合\n",
    "        # labels[i * batch_size : (i + 1) * batch_size] = labels_batch\n",
    "        labels[i : (i + features_batch.shape[0])] = labels_batch\n",
    "        i += features_batch.shape[0]\n",
    "        if i >= sample_count:\n",
    "          break\n",
    "    print()\n",
    "    return features, labels\n",
    "\n",
    "train_features, train_labels = extract_features(train_generator, train_generator.samples)\n",
    "validation_features, validation_labels = extract_features(validation_generator, validation_generator.samples)\n",
    "test_features = extract_features(test_generator, test_generator.samples)"
   ]
  },
  {
   "cell_type": "code",
   "execution_count": 0,
   "metadata": {
    "colab": {},
    "colab_type": "code",
    "id": "KCTOrpf1lf3n"
   },
   "outputs": [],
   "source": [
    "train_features = np.reshape(train_features, (train_generator.samples, 4 * 4 * 512))\n",
    "validation_features = np.reshape(validation_features, (validation_generator.samples, 4 * 4 * 512))\n",
    "test_features = np.reshape(test_features, (test_generator.samples, 4 * 4 * 512))"
   ]
  },
  {
   "cell_type": "code",
   "execution_count": 0,
   "metadata": {
    "colab": {},
    "colab_type": "code",
    "id": "1vGPBqi8lf-V"
   },
   "outputs": [],
   "source": [
    "from keras import models\n",
    "from keras import layers\n",
    "from keras import optimizers\n",
    "from keras import regularizers\n",
    "\n",
    "model = models.Sequential()\n",
    "model.add(layers.Dense(512, activation='relu', input_dim=4 * 4 * 512))\n",
    "model.add(layers.Dropout(0.2))\n",
    "model.add(layers.Dense(512, activation='relu'))\n",
    "model.add(layers.Dropout(0.3))\n",
    "# model.add(layers.Dense(512, activation='relu'))\n",
    "# model.add(layers.Dropout(0.3))\n",
    "model.add(layers.Dense(1, activation=None))"
   ]
  },
  {
   "cell_type": "code",
   "execution_count": 0,
   "metadata": {
    "colab": {},
    "colab_type": "code",
    "id": "M2Qi3me7b6dn"
   },
   "outputs": [],
   "source": [
    "model.compile(optimizer=optimizers.RMSprop(lr=2e-5),\n",
    "                  loss='mse',\n",
    "                  metrics=['mse'])"
   ]
  },
  {
   "cell_type": "code",
   "execution_count": 0,
   "metadata": {
    "colab": {
     "base_uri": "https://localhost:8080/",
     "height": 1000
    },
    "colab_type": "code",
    "executionInfo": {
     "elapsed": 15868,
     "status": "ok",
     "timestamp": 1575989074399,
     "user": {
      "displayName": "林亭佑",
      "photoUrl": "https://lh3.googleusercontent.com/a-/AAuE7mCa4KdkqST8f-rHXHm_rjYPP9hYtgmAqB7qaLgX=s64",
      "userId": "15671635726506356258"
     },
     "user_tz": -480
    },
    "id": "kDzDzETKt10v",
    "outputId": "66d79189-475d-43dd-db78-0e4617e7eae8"
   },
   "outputs": [
    {
     "name": "stdout",
     "output_type": "stream",
     "text": [
      "Train on 517 samples, validate on 172 samples\n",
      "Epoch 1/100\n",
      "517/517 [==============================] - 0s 336us/step - loss: 1.6105 - mean_squared_error: 1.6105 - val_loss: 0.3340 - val_mean_squared_error: 0.3340\n",
      "Epoch 2/100\n",
      "517/517 [==============================] - 0s 311us/step - loss: 1.4498 - mean_squared_error: 1.4498 - val_loss: 0.3751 - val_mean_squared_error: 0.3751\n",
      "Epoch 3/100\n",
      "517/517 [==============================] - 0s 329us/step - loss: 1.0577 - mean_squared_error: 1.0577 - val_loss: 0.4678 - val_mean_squared_error: 0.4678\n",
      "Epoch 4/100\n",
      "517/517 [==============================] - 0s 304us/step - loss: 1.4462 - mean_squared_error: 1.4462 - val_loss: 0.3662 - val_mean_squared_error: 0.3662\n",
      "Epoch 5/100\n",
      "517/517 [==============================] - 0s 301us/step - loss: 1.6748 - mean_squared_error: 1.6748 - val_loss: 0.3565 - val_mean_squared_error: 0.3565\n",
      "Epoch 6/100\n",
      "517/517 [==============================] - 0s 286us/step - loss: 1.0824 - mean_squared_error: 1.0824 - val_loss: 0.4213 - val_mean_squared_error: 0.4213\n",
      "Epoch 7/100\n",
      "517/517 [==============================] - 0s 300us/step - loss: 1.5159 - mean_squared_error: 1.5159 - val_loss: 0.3819 - val_mean_squared_error: 0.3819\n",
      "Epoch 8/100\n",
      "517/517 [==============================] - 0s 270us/step - loss: 1.4174 - mean_squared_error: 1.4174 - val_loss: 0.4352 - val_mean_squared_error: 0.4352\n",
      "Epoch 9/100\n",
      "517/517 [==============================] - 0s 284us/step - loss: 1.5837 - mean_squared_error: 1.5837 - val_loss: 0.3708 - val_mean_squared_error: 0.3708\n",
      "Epoch 10/100\n",
      "517/517 [==============================] - 0s 268us/step - loss: 1.2875 - mean_squared_error: 1.2875 - val_loss: 0.7942 - val_mean_squared_error: 0.7942\n",
      "Epoch 11/100\n",
      "517/517 [==============================] - 0s 302us/step - loss: 1.2754 - mean_squared_error: 1.2754 - val_loss: 0.7365 - val_mean_squared_error: 0.7365\n",
      "Epoch 12/100\n",
      "517/517 [==============================] - 0s 309us/step - loss: 1.4728 - mean_squared_error: 1.4728 - val_loss: 0.9667 - val_mean_squared_error: 0.9667\n",
      "Epoch 13/100\n",
      "517/517 [==============================] - 0s 304us/step - loss: 1.4016 - mean_squared_error: 1.4016 - val_loss: 0.5650 - val_mean_squared_error: 0.5650\n",
      "Epoch 14/100\n",
      "517/517 [==============================] - 0s 293us/step - loss: 1.4601 - mean_squared_error: 1.4601 - val_loss: 0.5638 - val_mean_squared_error: 0.5638\n",
      "Epoch 15/100\n",
      "517/517 [==============================] - 0s 275us/step - loss: 1.6275 - mean_squared_error: 1.6275 - val_loss: 0.5437 - val_mean_squared_error: 0.5437\n",
      "Epoch 16/100\n",
      "517/517 [==============================] - 0s 303us/step - loss: 1.2866 - mean_squared_error: 1.2866 - val_loss: 0.5956 - val_mean_squared_error: 0.5956\n",
      "Epoch 17/100\n",
      "517/517 [==============================] - 0s 275us/step - loss: 1.3852 - mean_squared_error: 1.3852 - val_loss: 0.5807 - val_mean_squared_error: 0.5807\n",
      "Epoch 18/100\n",
      "517/517 [==============================] - 0s 265us/step - loss: 1.3499 - mean_squared_error: 1.3499 - val_loss: 0.8117 - val_mean_squared_error: 0.8117\n",
      "Epoch 19/100\n",
      "517/517 [==============================] - 0s 325us/step - loss: 1.4882 - mean_squared_error: 1.4882 - val_loss: 0.3728 - val_mean_squared_error: 0.3728\n",
      "Epoch 20/100\n",
      "517/517 [==============================] - 0s 289us/step - loss: 1.2723 - mean_squared_error: 1.2723 - val_loss: 0.4873 - val_mean_squared_error: 0.4873\n",
      "Epoch 21/100\n",
      "517/517 [==============================] - 0s 271us/step - loss: 1.3387 - mean_squared_error: 1.3387 - val_loss: 0.6810 - val_mean_squared_error: 0.6810\n",
      "Epoch 22/100\n",
      "517/517 [==============================] - 0s 254us/step - loss: 1.6646 - mean_squared_error: 1.6646 - val_loss: 0.5314 - val_mean_squared_error: 0.5314\n",
      "Epoch 23/100\n",
      "517/517 [==============================] - 0s 274us/step - loss: 1.3338 - mean_squared_error: 1.3338 - val_loss: 0.3812 - val_mean_squared_error: 0.3812\n",
      "Epoch 24/100\n",
      "517/517 [==============================] - 0s 295us/step - loss: 1.5412 - mean_squared_error: 1.5412 - val_loss: 0.7195 - val_mean_squared_error: 0.7195\n",
      "Epoch 25/100\n",
      "517/517 [==============================] - 0s 284us/step - loss: 1.6566 - mean_squared_error: 1.6566 - val_loss: 1.1511 - val_mean_squared_error: 1.1511\n",
      "Epoch 26/100\n",
      "517/517 [==============================] - 0s 328us/step - loss: 1.4884 - mean_squared_error: 1.4884 - val_loss: 0.7872 - val_mean_squared_error: 0.7872\n",
      "Epoch 27/100\n",
      "517/517 [==============================] - 0s 270us/step - loss: 1.3733 - mean_squared_error: 1.3733 - val_loss: 0.3769 - val_mean_squared_error: 0.3769\n",
      "Epoch 28/100\n",
      "517/517 [==============================] - 0s 283us/step - loss: 1.3473 - mean_squared_error: 1.3473 - val_loss: 1.4011 - val_mean_squared_error: 1.4011\n",
      "Epoch 29/100\n",
      "517/517 [==============================] - 0s 248us/step - loss: 1.3369 - mean_squared_error: 1.3369 - val_loss: 1.3313 - val_mean_squared_error: 1.3313\n",
      "Epoch 30/100\n",
      "517/517 [==============================] - 0s 245us/step - loss: 1.3018 - mean_squared_error: 1.3018 - val_loss: 0.5984 - val_mean_squared_error: 0.5984\n",
      "Epoch 31/100\n",
      "517/517 [==============================] - 0s 251us/step - loss: 1.4685 - mean_squared_error: 1.4685 - val_loss: 0.4332 - val_mean_squared_error: 0.4332\n",
      "Epoch 32/100\n",
      "517/517 [==============================] - 0s 294us/step - loss: 1.4221 - mean_squared_error: 1.4221 - val_loss: 0.4692 - val_mean_squared_error: 0.4692\n",
      "Epoch 33/100\n",
      "517/517 [==============================] - 0s 275us/step - loss: 1.4575 - mean_squared_error: 1.4575 - val_loss: 1.0860 - val_mean_squared_error: 1.0860\n",
      "Epoch 34/100\n",
      "517/517 [==============================] - 0s 294us/step - loss: 1.4793 - mean_squared_error: 1.4793 - val_loss: 0.4991 - val_mean_squared_error: 0.4991\n",
      "Epoch 35/100\n",
      "517/517 [==============================] - 0s 290us/step - loss: 1.1280 - mean_squared_error: 1.1280 - val_loss: 1.0178 - val_mean_squared_error: 1.0178\n",
      "Epoch 36/100\n",
      "517/517 [==============================] - 0s 286us/step - loss: 1.3521 - mean_squared_error: 1.3521 - val_loss: 0.8725 - val_mean_squared_error: 0.8725\n",
      "Epoch 37/100\n",
      "517/517 [==============================] - 0s 301us/step - loss: 1.4884 - mean_squared_error: 1.4884 - val_loss: 0.3962 - val_mean_squared_error: 0.3962\n",
      "Epoch 38/100\n",
      "517/517 [==============================] - 0s 316us/step - loss: 1.3801 - mean_squared_error: 1.3801 - val_loss: 0.8180 - val_mean_squared_error: 0.8180\n",
      "Epoch 39/100\n",
      "517/517 [==============================] - 0s 297us/step - loss: 1.4820 - mean_squared_error: 1.4820 - val_loss: 0.4489 - val_mean_squared_error: 0.4489\n",
      "Epoch 40/100\n",
      "517/517 [==============================] - 0s 302us/step - loss: 1.7758 - mean_squared_error: 1.7758 - val_loss: 0.3922 - val_mean_squared_error: 0.3922\n",
      "Epoch 41/100\n",
      "517/517 [==============================] - 0s 307us/step - loss: 1.4883 - mean_squared_error: 1.4883 - val_loss: 0.6208 - val_mean_squared_error: 0.6208\n",
      "Epoch 42/100\n",
      "517/517 [==============================] - 0s 309us/step - loss: 1.4491 - mean_squared_error: 1.4491 - val_loss: 0.4910 - val_mean_squared_error: 0.4910\n",
      "Epoch 43/100\n",
      "517/517 [==============================] - 0s 308us/step - loss: 1.2780 - mean_squared_error: 1.2780 - val_loss: 0.3378 - val_mean_squared_error: 0.3378\n",
      "Epoch 44/100\n",
      "517/517 [==============================] - 0s 302us/step - loss: 1.4800 - mean_squared_error: 1.4800 - val_loss: 1.3910 - val_mean_squared_error: 1.3910\n",
      "Epoch 45/100\n",
      "517/517 [==============================] - 0s 297us/step - loss: 1.3850 - mean_squared_error: 1.3850 - val_loss: 0.5411 - val_mean_squared_error: 0.5411\n",
      "Epoch 46/100\n",
      "517/517 [==============================] - 0s 289us/step - loss: 1.3215 - mean_squared_error: 1.3215 - val_loss: 0.3968 - val_mean_squared_error: 0.3968\n",
      "Epoch 47/100\n",
      "517/517 [==============================] - 0s 317us/step - loss: 1.3384 - mean_squared_error: 1.3384 - val_loss: 0.4054 - val_mean_squared_error: 0.4054\n",
      "Epoch 48/100\n",
      "517/517 [==============================] - 0s 267us/step - loss: 1.5102 - mean_squared_error: 1.5102 - val_loss: 0.5609 - val_mean_squared_error: 0.5609\n",
      "Epoch 49/100\n",
      "517/517 [==============================] - 0s 285us/step - loss: 1.3570 - mean_squared_error: 1.3570 - val_loss: 0.7106 - val_mean_squared_error: 0.7106\n",
      "Epoch 50/100\n",
      "517/517 [==============================] - 0s 275us/step - loss: 1.3589 - mean_squared_error: 1.3589 - val_loss: 0.7645 - val_mean_squared_error: 0.7645\n",
      "Epoch 51/100\n",
      "517/517 [==============================] - 0s 281us/step - loss: 1.3089 - mean_squared_error: 1.3089 - val_loss: 0.5263 - val_mean_squared_error: 0.5263\n",
      "Epoch 52/100\n",
      "517/517 [==============================] - 0s 271us/step - loss: 1.6064 - mean_squared_error: 1.6064 - val_loss: 0.9539 - val_mean_squared_error: 0.9539\n",
      "Epoch 53/100\n",
      "517/517 [==============================] - 0s 258us/step - loss: 1.3840 - mean_squared_error: 1.3840 - val_loss: 0.9983 - val_mean_squared_error: 0.9983\n",
      "Epoch 54/100\n",
      "517/517 [==============================] - 0s 326us/step - loss: 1.5128 - mean_squared_error: 1.5128 - val_loss: 1.3574 - val_mean_squared_error: 1.3574\n",
      "Epoch 55/100\n",
      "517/517 [==============================] - 0s 274us/step - loss: 1.2730 - mean_squared_error: 1.2730 - val_loss: 0.6666 - val_mean_squared_error: 0.6666\n",
      "Epoch 56/100\n",
      "517/517 [==============================] - 0s 249us/step - loss: 1.4607 - mean_squared_error: 1.4607 - val_loss: 0.9387 - val_mean_squared_error: 0.9387\n",
      "Epoch 57/100\n",
      "517/517 [==============================] - 0s 287us/step - loss: 1.4186 - mean_squared_error: 1.4186 - val_loss: 0.5063 - val_mean_squared_error: 0.5063\n",
      "Epoch 58/100\n",
      "517/517 [==============================] - 0s 265us/step - loss: 1.3960 - mean_squared_error: 1.3960 - val_loss: 1.2301 - val_mean_squared_error: 1.2301\n",
      "Epoch 59/100\n",
      "517/517 [==============================] - 0s 256us/step - loss: 1.5334 - mean_squared_error: 1.5334 - val_loss: 0.5298 - val_mean_squared_error: 0.5298\n",
      "Epoch 60/100\n",
      "517/517 [==============================] - 0s 262us/step - loss: 1.4044 - mean_squared_error: 1.4044 - val_loss: 0.5351 - val_mean_squared_error: 0.5351\n",
      "Epoch 61/100\n",
      "517/517 [==============================] - 0s 312us/step - loss: 1.7736 - mean_squared_error: 1.7736 - val_loss: 0.7775 - val_mean_squared_error: 0.7775\n",
      "Epoch 62/100\n",
      "517/517 [==============================] - 0s 307us/step - loss: 1.4640 - mean_squared_error: 1.4640 - val_loss: 0.4913 - val_mean_squared_error: 0.4913\n",
      "Epoch 63/100\n",
      "517/517 [==============================] - 0s 299us/step - loss: 1.3631 - mean_squared_error: 1.3631 - val_loss: 0.8865 - val_mean_squared_error: 0.8865\n",
      "Epoch 64/100\n",
      "517/517 [==============================] - 0s 280us/step - loss: 1.2945 - mean_squared_error: 1.2945 - val_loss: 0.5573 - val_mean_squared_error: 0.5573\n",
      "Epoch 65/100\n",
      "517/517 [==============================] - 0s 280us/step - loss: 1.5258 - mean_squared_error: 1.5258 - val_loss: 0.5174 - val_mean_squared_error: 0.5174\n",
      "Epoch 66/100\n",
      "517/517 [==============================] - 0s 252us/step - loss: 1.4588 - mean_squared_error: 1.4588 - val_loss: 0.5489 - val_mean_squared_error: 0.5489\n",
      "Epoch 67/100\n",
      "517/517 [==============================] - 0s 267us/step - loss: 1.3034 - mean_squared_error: 1.3034 - val_loss: 0.6418 - val_mean_squared_error: 0.6418\n",
      "Epoch 68/100\n",
      "517/517 [==============================] - 0s 290us/step - loss: 1.5241 - mean_squared_error: 1.5241 - val_loss: 1.0013 - val_mean_squared_error: 1.0013\n",
      "Epoch 69/100\n",
      "517/517 [==============================] - 0s 285us/step - loss: 1.2537 - mean_squared_error: 1.2537 - val_loss: 0.4384 - val_mean_squared_error: 0.4384\n",
      "Epoch 70/100\n",
      "517/517 [==============================] - 0s 261us/step - loss: 1.2110 - mean_squared_error: 1.2110 - val_loss: 0.5210 - val_mean_squared_error: 0.5210\n",
      "Epoch 71/100\n",
      "517/517 [==============================] - 0s 265us/step - loss: 1.3389 - mean_squared_error: 1.3389 - val_loss: 0.4781 - val_mean_squared_error: 0.4781\n",
      "Epoch 72/100\n",
      "517/517 [==============================] - 0s 240us/step - loss: 1.5113 - mean_squared_error: 1.5113 - val_loss: 0.4135 - val_mean_squared_error: 0.4135\n",
      "Epoch 73/100\n",
      "517/517 [==============================] - 0s 252us/step - loss: 1.4969 - mean_squared_error: 1.4969 - val_loss: 0.4460 - val_mean_squared_error: 0.4460\n",
      "Epoch 74/100\n",
      "517/517 [==============================] - 0s 259us/step - loss: 1.2618 - mean_squared_error: 1.2618 - val_loss: 0.4593 - val_mean_squared_error: 0.4593\n",
      "Epoch 75/100\n",
      "517/517 [==============================] - 0s 300us/step - loss: 1.4828 - mean_squared_error: 1.4828 - val_loss: 1.5630 - val_mean_squared_error: 1.5630\n",
      "Epoch 76/100\n",
      "517/517 [==============================] - 0s 265us/step - loss: 1.3277 - mean_squared_error: 1.3277 - val_loss: 0.6997 - val_mean_squared_error: 0.6997\n",
      "Epoch 77/100\n",
      "517/517 [==============================] - 0s 300us/step - loss: 1.3587 - mean_squared_error: 1.3587 - val_loss: 0.6810 - val_mean_squared_error: 0.6810\n",
      "Epoch 78/100\n",
      "517/517 [==============================] - 0s 285us/step - loss: 1.4503 - mean_squared_error: 1.4503 - val_loss: 0.3644 - val_mean_squared_error: 0.3644\n",
      "Epoch 79/100\n",
      "517/517 [==============================] - 0s 280us/step - loss: 1.2959 - mean_squared_error: 1.2959 - val_loss: 0.4677 - val_mean_squared_error: 0.4677\n",
      "Epoch 80/100\n",
      "517/517 [==============================] - 0s 273us/step - loss: 1.3160 - mean_squared_error: 1.3160 - val_loss: 0.7594 - val_mean_squared_error: 0.7594\n",
      "Epoch 81/100\n",
      "517/517 [==============================] - 0s 311us/step - loss: 1.5816 - mean_squared_error: 1.5816 - val_loss: 1.0169 - val_mean_squared_error: 1.0169\n",
      "Epoch 82/100\n",
      "517/517 [==============================] - 0s 322us/step - loss: 1.5889 - mean_squared_error: 1.5889 - val_loss: 0.7087 - val_mean_squared_error: 0.7087\n",
      "Epoch 83/100\n",
      "517/517 [==============================] - 0s 293us/step - loss: 1.2503 - mean_squared_error: 1.2503 - val_loss: 0.6965 - val_mean_squared_error: 0.6965\n",
      "Epoch 84/100\n",
      "517/517 [==============================] - 0s 302us/step - loss: 1.2892 - mean_squared_error: 1.2892 - val_loss: 1.0867 - val_mean_squared_error: 1.0867\n",
      "Epoch 85/100\n",
      "517/517 [==============================] - 0s 305us/step - loss: 1.4666 - mean_squared_error: 1.4666 - val_loss: 1.0507 - val_mean_squared_error: 1.0507\n",
      "Epoch 86/100\n",
      "517/517 [==============================] - 0s 313us/step - loss: 1.2046 - mean_squared_error: 1.2046 - val_loss: 1.5800 - val_mean_squared_error: 1.5800\n",
      "Epoch 87/100\n",
      "517/517 [==============================] - 0s 273us/step - loss: 1.2787 - mean_squared_error: 1.2787 - val_loss: 0.8513 - val_mean_squared_error: 0.8513\n",
      "Epoch 88/100\n",
      "517/517 [==============================] - 0s 294us/step - loss: 1.4050 - mean_squared_error: 1.4050 - val_loss: 1.1982 - val_mean_squared_error: 1.1982\n",
      "Epoch 89/100\n",
      "517/517 [==============================] - 0s 282us/step - loss: 1.3529 - mean_squared_error: 1.3529 - val_loss: 1.1692 - val_mean_squared_error: 1.1692\n",
      "Epoch 90/100\n",
      "517/517 [==============================] - 0s 287us/step - loss: 1.1537 - mean_squared_error: 1.1537 - val_loss: 0.6426 - val_mean_squared_error: 0.6426\n",
      "Epoch 91/100\n",
      "517/517 [==============================] - 0s 286us/step - loss: 1.4048 - mean_squared_error: 1.4048 - val_loss: 0.6480 - val_mean_squared_error: 0.6480\n",
      "Epoch 92/100\n",
      "517/517 [==============================] - 0s 256us/step - loss: 1.3334 - mean_squared_error: 1.3334 - val_loss: 0.4087 - val_mean_squared_error: 0.4087\n",
      "Epoch 93/100\n",
      "517/517 [==============================] - 0s 280us/step - loss: 1.3798 - mean_squared_error: 1.3798 - val_loss: 0.7237 - val_mean_squared_error: 0.7237\n",
      "Epoch 94/100\n",
      "517/517 [==============================] - 0s 309us/step - loss: 1.3844 - mean_squared_error: 1.3844 - val_loss: 0.4593 - val_mean_squared_error: 0.4593\n",
      "Epoch 95/100\n",
      "517/517 [==============================] - 0s 262us/step - loss: 1.2938 - mean_squared_error: 1.2938 - val_loss: 0.9482 - val_mean_squared_error: 0.9482\n",
      "Epoch 96/100\n",
      "517/517 [==============================] - 0s 281us/step - loss: 1.3647 - mean_squared_error: 1.3647 - val_loss: 0.7354 - val_mean_squared_error: 0.7354\n",
      "Epoch 97/100\n",
      "517/517 [==============================] - 0s 278us/step - loss: 1.5740 - mean_squared_error: 1.5740 - val_loss: 0.6013 - val_mean_squared_error: 0.6013\n",
      "Epoch 98/100\n",
      "517/517 [==============================] - 0s 290us/step - loss: 1.3176 - mean_squared_error: 1.3176 - val_loss: 0.7727 - val_mean_squared_error: 0.7727\n",
      "Epoch 99/100\n",
      "517/517 [==============================] - 0s 264us/step - loss: 1.3068 - mean_squared_error: 1.3068 - val_loss: 0.4159 - val_mean_squared_error: 0.4159\n",
      "Epoch 100/100\n",
      "517/517 [==============================] - 0s 264us/step - loss: 1.3726 - mean_squared_error: 1.3726 - val_loss: 0.4816 - val_mean_squared_error: 0.4816\n"
     ]
    }
   ],
   "source": [
    "history = model.fit(train_features, train_labels,\n",
    "                    epochs=100,\n",
    "                    batch_size=20,\n",
    "                    validation_data=(validation_features, validation_labels))"
   ]
  },
  {
   "cell_type": "code",
   "execution_count": 0,
   "metadata": {
    "colab": {
     "base_uri": "https://localhost:8080/",
     "height": 281
    },
    "colab_type": "code",
    "executionInfo": {
     "elapsed": 1527,
     "status": "ok",
     "timestamp": 1575989083653,
     "user": {
      "displayName": "林亭佑",
      "photoUrl": "https://lh3.googleusercontent.com/a-/AAuE7mCa4KdkqST8f-rHXHm_rjYPP9hYtgmAqB7qaLgX=s64",
      "userId": "15671635726506356258"
     },
     "user_tz": -480
    },
    "id": "ckZ-4DlvlgEy",
    "outputId": "b71cdb0c-ace5-4d92-b45f-26c1353114fd"
   },
   "outputs": [
    {
     "data": {
      "image/png": "[encoded data removed]",
      "text/plain": [
       "<Figure size 432x288 with 1 Axes>"
      ]
     },
     "metadata": {
      "tags": []
     },
     "output_type": "display_data"
    }
   ],
   "source": [
    "import matplotlib.pyplot as plt\n",
    "\n",
    "# acc = history.history['acc']\n",
    "# val_acc = history.history['val_acc']\n",
    "loss = history.history['loss']\n",
    "val_loss = history.history['val_loss']\n",
    "\n",
    "epochs = range(1, len(loss)+1)\n",
    "\n",
    "plt.plot(epochs, loss, 'bo', label='Training loss')\n",
    "plt.plot(epochs, val_loss, 'b', label='Validation loss')\n",
    "plt.title('Training and validation loss')\n",
    "plt.legend()\n",
    "\n",
    "plt.show()"
   ]
  },
  {
   "cell_type": "code",
   "execution_count": 0,
   "metadata": {
    "colab": {},
    "colab_type": "code",
    "id": "wRdxm7bUlSKu"
   },
   "outputs": [],
   "source": [
    "pred = model.predict(test_features)\n",
    "pred"
   ]
  },
  {
   "cell_type": "code",
   "execution_count": 0,
   "metadata": {
    "colab": {
     "base_uri": "https://localhost:8080/",
     "height": 252
    },
    "colab_type": "code",
    "executionInfo": {
     "elapsed": 1650,
     "status": "ok",
     "timestamp": 1575989093382,
     "user": {
      "displayName": "林亭佑",
      "photoUrl": "https://lh3.googleusercontent.com/a-/AAuE7mCa4KdkqST8f-rHXHm_rjYPP9hYtgmAqB7qaLgX=s64",
      "userId": "15671635726506356258"
     },
     "user_tz": -480
    },
    "id": "tlhQcepJlSpe",
    "outputId": "5ef120fd-0c14-40ce-d513-1d0b5942239b"
   },
   "outputs": [
    {
     "data": {
      "text/plain": [
       "<bound method NDFrame.head of                             Pic Name  Total rebars\n",
       "0                test_Depth_9280.png            23\n",
       "1    20191024_10852_Depth_112034.png            14\n",
       "2               test_Depth_14496.png            21\n",
       "3     20190531_105600_Depth_5472.png            29\n",
       "4    20190531_100725_Depth_20817.png            13\n",
       "..                               ...           ...\n",
       "96              test_Depth_15136.png            24\n",
       "97              test_Depth_65208.png            27\n",
       "98   20190531_100633_Depth_19281.png             8\n",
       "99   20191024_095044_Depth_47316.png            13\n",
       "100  20191024_100019_Depth_63487.png            14\n",
       "\n",
       "[101 rows x 2 columns]>"
      ]
     },
     "execution_count": 210,
     "metadata": {
      "tags": []
     },
     "output_type": "execute_result"
    }
   ],
   "source": [
    "pred_int = pred.astype('int')\n",
    "testdf['Total rebars'] = pred_int\n",
    "testdf.head"
   ]
  },
  {
   "cell_type": "code",
   "execution_count": 0,
   "metadata": {
    "colab": {},
    "colab_type": "code",
    "id": "NGz9SuTNvrg7"
   },
   "outputs": [],
   "source": [
    "testdf.to_csv(\"drive/My Drive/Colab Notebooks/Final Project/Task 1/result18.csv\", index=False, encoding='utf-8')"
   ]
  }
 ],
 "metadata": {
  "accelerator": "GPU",
  "colab": {
   "name": "Task1_VGG16_extract.ipynb",
   "provenance": []
  },
  "kernelspec": {
   "display_name": "Python 3",
   "language": "python",
   "name": "python3"
  },
  "language_info": {
   "codemirror_mode": {
    "name": "ipython",
    "version": 3
   },
   "file_extension": ".py",
   "mimetype": "text/x-python",
   "name": "python",
   "nbconvert_exporter": "python",
   "pygments_lexer": "ipython3",
   "version": "3.7.4"
  }
 },
 "nbformat": 4,
 "nbformat_minor": 1
}
