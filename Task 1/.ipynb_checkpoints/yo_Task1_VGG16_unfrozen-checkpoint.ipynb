{
 "cells": [
  {
   "cell_type": "code",
   "execution_count": 1,
   "metadata": {
    "colab": {
     "base_uri": "https://localhost:8080/",
     "height": 121
    },
    "colab_type": "code",
    "executionInfo": {
     "elapsed": 25696,
     "status": "ok",
     "timestamp": 1576749024793,
     "user": {
      "displayName": "林亭佑",
      "photoUrl": "https://lh3.googleusercontent.com/a-/AAuE7mCa4KdkqST8f-rHXHm_rjYPP9hYtgmAqB7qaLgX=s64",
      "userId": "15671635726506356258"
     },
     "user_tz": -480
    },
    "id": "zHMie4lBz3vS",
    "outputId": "d729d63b-ca60-4e4a-bddb-a51a23f1fa84"
   },
   "outputs": [
    {
     "name": "stdout",
     "output_type": "stream",
     "text": [
      "Go to this URL in a browser: https://accounts.google.com/o/oauth2/auth?client_id=947318989803-6bn6qk8qdgf4n4g3pfee6491hc0brc4i.apps.googleusercontent.com&redirect_uri=urn%3aietf%3awg%3aoauth%3a2.0%3aoob&response_type=code&scope=email%20https%3a%2f%2fwww.googleapis.com%2fauth%2fdocs.test%20https%3a%2f%2fwww.googleapis.com%2fauth%2fdrive%20https%3a%2f%2fwww.googleapis.com%2fauth%2fdrive.photos.readonly%20https%3a%2f%2fwww.googleapis.com%2fauth%2fpeopleapi.readonly\n",
      "\n",
      "Enter your authorization code:\n",
      "··········\n",
      "Mounted at /content/drive\n"
     ]
    }
   ],
   "source": [
    "from google.colab import drive\n",
    "drive.mount('/content/drive')"
   ]
  },
  {
   "cell_type": "code",
   "execution_count": 4,
   "metadata": {
    "colab": {
     "base_uri": "https://localhost:8080/",
     "height": 195
    },
    "colab_type": "code",
    "executionInfo": {
     "elapsed": 1165,
     "status": "ok",
     "timestamp": 1576749514876,
     "user": {
      "displayName": "林亭佑",
      "photoUrl": "https://lh3.googleusercontent.com/a-/AAuE7mCa4KdkqST8f-rHXHm_rjYPP9hYtgmAqB7qaLgX=s64",
      "userId": "15671635726506356258"
     },
     "user_tz": -480
    },
    "id": "vUip1sUoyqXI",
    "outputId": "6600ea41-79c6-4e41-af41-5bf2a65831c4"
   },
   "outputs": [
    {
     "data": {
      "text/html": [
       "<div>\n",
       "<style scoped>\n",
       "    .dataframe tbody tr th:only-of-type {\n",
       "        vertical-align: middle;\n",
       "    }\n",
       "\n",
       "    .dataframe tbody tr th {\n",
       "        vertical-align: top;\n",
       "    }\n",
       "\n",
       "    .dataframe thead th {\n",
       "        text-align: right;\n",
       "    }\n",
       "</style>\n",
       "<table border=\"1\" class=\"dataframe\">\n",
       "  <thead>\n",
       "    <tr style=\"text-align: right;\">\n",
       "      <th></th>\n",
       "      <th>Pic Name</th>\n",
       "      <th>number of horizontal rebars</th>\n",
       "      <th>number of vertical rebars</th>\n",
       "      <th>Total rebars</th>\n",
       "    </tr>\n",
       "  </thead>\n",
       "  <tbody>\n",
       "    <tr>\n",
       "      <th>0</th>\n",
       "      <td>20191024_100109_Depth_64669.png</td>\n",
       "      <td>8</td>\n",
       "      <td>9</td>\n",
       "      <td>17</td>\n",
       "    </tr>\n",
       "    <tr>\n",
       "      <th>1</th>\n",
       "      <td>20191024_100109_Depth_64594.png</td>\n",
       "      <td>8</td>\n",
       "      <td>9</td>\n",
       "      <td>17</td>\n",
       "    </tr>\n",
       "    <tr>\n",
       "      <th>2</th>\n",
       "      <td>20191024_100109_Depth_64690.png</td>\n",
       "      <td>8</td>\n",
       "      <td>9</td>\n",
       "      <td>17</td>\n",
       "    </tr>\n",
       "    <tr>\n",
       "      <th>3</th>\n",
       "      <td>20191024_095044_Depth_47399.png</td>\n",
       "      <td>7</td>\n",
       "      <td>7</td>\n",
       "      <td>14</td>\n",
       "    </tr>\n",
       "    <tr>\n",
       "      <th>4</th>\n",
       "      <td>20191024_095044_Depth_47300.png</td>\n",
       "      <td>7</td>\n",
       "      <td>7</td>\n",
       "      <td>14</td>\n",
       "    </tr>\n",
       "  </tbody>\n",
       "</table>\n",
       "</div>"
      ],
      "text/plain": [
       "                          Pic Name  ...  Total rebars\n",
       "0  20191024_100109_Depth_64669.png  ...            17\n",
       "1  20191024_100109_Depth_64594.png  ...            17\n",
       "2  20191024_100109_Depth_64690.png  ...            17\n",
       "3  20191024_095044_Depth_47399.png  ...            14\n",
       "4  20191024_095044_Depth_47300.png  ...            14\n",
       "\n",
       "[5 rows x 4 columns]"
      ]
     },
     "execution_count": 4,
     "metadata": {
      "tags": []
     },
     "output_type": "execute_result"
    }
   ],
   "source": [
    "import pandas as pd\n",
    "traindf=pd.read_csv(\"drive/My Drive/Colab Notebooks/Final Project/Task 1/train.csv\")\n",
    "# traindf['label'] = traindf['Total rebars'].astype(str)\n",
    "traindf.head()"
   ]
  },
  {
   "cell_type": "code",
   "execution_count": 14,
   "metadata": {
    "colab": {
     "base_uri": "https://localhost:8080/",
     "height": 351
    },
    "colab_type": "code",
    "executionInfo": {
     "elapsed": 1636,
     "status": "ok",
     "timestamp": 1576750705902,
     "user": {
      "displayName": "林亭佑",
      "photoUrl": "https://lh3.googleusercontent.com/a-/AAuE7mCa4KdkqST8f-rHXHm_rjYPP9hYtgmAqB7qaLgX=s64",
      "userId": "15671635726506356258"
     },
     "user_tz": -480
    },
    "id": "KnErdJlrkcu3",
    "outputId": "ed01c0dc-aabd-474e-9951-ca6d4d97966d"
   },
   "outputs": [
    {
     "data": {
      "text/plain": [
       "<matplotlib.axes._subplots.AxesSubplot at 0x7f4bf032a860>"
      ]
     },
     "execution_count": 14,
     "metadata": {
      "tags": []
     },
     "output_type": "execute_result"
    },
    {
     "data": {
      "image/png": "[encoded data removed]",
      "text/plain": [
       "<Figure size 1080x360 with 3 Axes>"
      ]
     },
     "metadata": {
      "tags": []
     },
     "output_type": "display_data"
    }
   ],
   "source": [
    "import seaborn as sns\n",
    "import matplotlib.pyplot as plt\n",
    "\n",
    "fig, ax = plt.subplots(1,3, sharey=True, figsize=[15, 5])\n",
    "sns.distplot(traindf['number of horizontal rebars'], kde=False, color='r', ax=ax[0])\n",
    "sns.distplot(traindf['number of vertical rebars'], kde=False, color='r', ax=ax[1])\n",
    "sns.distplot(traindf['Total rebars'], kde=False, color='r', ax=ax[2])"
   ]
  },
  {
   "cell_type": "code",
   "execution_count": 0,
   "metadata": {
    "colab": {
     "base_uri": "https://localhost:8080/",
     "height": 195
    },
    "colab_type": "code",
    "executionInfo": {
     "elapsed": 1700,
     "status": "ok",
     "timestamp": 1575981467276,
     "user": {
      "displayName": "林亭佑",
      "photoUrl": "https://lh3.googleusercontent.com/a-/AAuE7mCa4KdkqST8f-rHXHm_rjYPP9hYtgmAqB7qaLgX=s64",
      "userId": "15671635726506356258"
     },
     "user_tz": -480
    },
    "id": "eHHmgaGE0I0p",
    "outputId": "4f08ab56-d5fe-48a6-f397-0e2f1656c435"
   },
   "outputs": [
    {
     "data": {
      "text/html": [
       "<div>\n",
       "<style scoped>\n",
       "    .dataframe tbody tr th:only-of-type {\n",
       "        vertical-align: middle;\n",
       "    }\n",
       "\n",
       "    .dataframe tbody tr th {\n",
       "        vertical-align: top;\n",
       "    }\n",
       "\n",
       "    .dataframe thead th {\n",
       "        text-align: right;\n",
       "    }\n",
       "</style>\n",
       "<table border=\"1\" class=\"dataframe\">\n",
       "  <thead>\n",
       "    <tr style=\"text-align: right;\">\n",
       "      <th></th>\n",
       "      <th>Pic Name</th>\n",
       "    </tr>\n",
       "  </thead>\n",
       "  <tbody>\n",
       "    <tr>\n",
       "      <th>0</th>\n",
       "      <td>test_Depth_9280.png</td>\n",
       "    </tr>\n",
       "    <tr>\n",
       "      <th>1</th>\n",
       "      <td>20191024_10852_Depth_112034.png</td>\n",
       "    </tr>\n",
       "    <tr>\n",
       "      <th>2</th>\n",
       "      <td>test_Depth_14496.png</td>\n",
       "    </tr>\n",
       "    <tr>\n",
       "      <th>3</th>\n",
       "      <td>20190531_105600_Depth_5472.png</td>\n",
       "    </tr>\n",
       "    <tr>\n",
       "      <th>4</th>\n",
       "      <td>20190531_100725_Depth_20817.png</td>\n",
       "    </tr>\n",
       "  </tbody>\n",
       "</table>\n",
       "</div>"
      ],
      "text/plain": [
       "                          Pic Name\n",
       "0              test_Depth_9280.png\n",
       "1  20191024_10852_Depth_112034.png\n",
       "2             test_Depth_14496.png\n",
       "3   20190531_105600_Depth_5472.png\n",
       "4  20190531_100725_Depth_20817.png"
      ]
     },
     "execution_count": 3,
     "metadata": {
      "tags": []
     },
     "output_type": "execute_result"
    }
   ],
   "source": [
    "testdf=pd.read_csv(\"drive/My Drive/Colab Notebooks/Final Project/Task 1/testName.csv\")\n",
    "testdf.head()"
   ]
  },
  {
   "cell_type": "code",
   "execution_count": 0,
   "metadata": {
    "colab": {
     "base_uri": "https://localhost:8080/",
     "height": 130
    },
    "colab_type": "code",
    "executionInfo": {
     "elapsed": 11343,
     "status": "ok",
     "timestamp": 1575981491545,
     "user": {
      "displayName": "林亭佑",
      "photoUrl": "https://lh3.googleusercontent.com/a-/AAuE7mCa4KdkqST8f-rHXHm_rjYPP9hYtgmAqB7qaLgX=s64",
      "userId": "15671635726506356258"
     },
     "user_tz": -480
    },
    "id": "2CiFMAme0L-s",
    "outputId": "f7366b5e-e7ee-46ca-e12e-62bc0131a100"
   },
   "outputs": [
    {
     "name": "stderr",
     "output_type": "stream",
     "text": [
      "Using TensorFlow backend.\n"
     ]
    },
    {
     "data": {
      "text/html": [
       "<p style=\"color: red;\">\n",
       "The default version of TensorFlow in Colab will soon switch to TensorFlow 2.x.<br>\n",
       "We recommend you <a href=\"https://www.tensorflow.org/guide/migrate\" target=\"_blank\">upgrade</a> now \n",
       "or ensure your notebook will continue to use TensorFlow 1.x via the <code>%tensorflow_version 1.x</code> magic:\n",
       "<a href=\"https://colab.research.google.com/notebooks/tensorflow_version.ipynb\" target=\"_blank\">more info</a>.</p>\n"
      ],
      "text/plain": [
       "<IPython.core.display.HTML object>"
      ]
     },
     "metadata": {
      "tags": []
     },
     "output_type": "display_data"
    },
    {
     "name": "stdout",
     "output_type": "stream",
     "text": [
      "Found 517 validated image filenames.\n",
      "Found 172 validated image filenames.\n",
      "Found 101 validated image filenames.\n"
     ]
    }
   ],
   "source": [
    "import os\n",
    "from keras.preprocessing.image import ImageDataGenerator\n",
    "\n",
    "# base_dir = '.\\\\train_img'\n",
    "# train_dir = os.path.join(base_dir, 'train_img')\n",
    "train_dir = 'drive/My Drive/Colab Notebooks/Final Project/Task 1/totalDepthPic'\n",
    "test_dir = 'drive/My Drive/Colab Notebooks/Final Project/Task 1/totalDepthPic'\n",
    "\n",
    "datagen = ImageDataGenerator(\n",
    "    width_shift_range=10,\n",
    "    height_shift_range=10,\n",
    "    rotation_range=15,\n",
    "    zoom_range=0.2,\n",
    "    horizontal_flip=True,\n",
    "    vertical_flip=True,\n",
    "    rescale=1./255., \n",
    "    # validation_split=0.25\n",
    ")\n",
    "train_generator=datagen.flow_from_dataframe( \n",
    "    dataframe=traindf, \n",
    "    directory=train_dir, \n",
    "    x_col='Pic Name', \n",
    "    y_col='Total rebars', \n",
    "    has_ext=False, \n",
    "    subset=\"training\", \n",
    "    class_mode=\"raw\", \n",
    "    batch_size=20,\n",
    "    target_size=(150, 150)\n",
    ")\n",
    "\n",
    "validation_generator=datagen.flow_from_dataframe( \n",
    "    dataframe=traindf, \n",
    "    directory=train_dir,\n",
    "    x_col='Pic Name', \n",
    "    y_col='Total rebars', \n",
    "    has_ext=False, \n",
    "    subset=\"validation\", \n",
    "    class_mode=\"raw\",\n",
    "    batch_size=20,\n",
    "    target_size=(150, 150)\n",
    "    )\n",
    "\n",
    "test_datagen = ImageDataGenerator(rescale=1./255.)\n",
    "test_generator = test_datagen.flow_from_dataframe(\n",
    "    dataframe=testdf,\n",
    "    directory=test_dir,\n",
    "    x_col='Pic Name',\n",
    "    target_size=(150, 150),\n",
    "    color_mode='rgb',\n",
    "    shuffle=False,\n",
    "    class_mode=None\n",
    ")"
   ]
  },
  {
   "cell_type": "code",
   "execution_count": 0,
   "metadata": {
    "colab": {},
    "colab_type": "code",
    "id": "7HiIj_4Q0PWZ"
   },
   "outputs": [],
   "source": [
    "from keras.applications import VGG16\n",
    "\n",
    "conv_base = VGG16(weights='imagenet',\n",
    "                  include_top=False,\n",
    "                  input_shape=(150, 150, 3)\n",
    ")"
   ]
  },
  {
   "cell_type": "code",
   "execution_count": 0,
   "metadata": {
    "colab": {
     "base_uri": "https://localhost:8080/",
     "height": 121
    },
    "colab_type": "code",
    "executionInfo": {
     "elapsed": 1813,
     "status": "ok",
     "timestamp": 1575981639933,
     "user": {
      "displayName": "林亭佑",
      "photoUrl": "https://lh3.googleusercontent.com/a-/AAuE7mCa4KdkqST8f-rHXHm_rjYPP9hYtgmAqB7qaLgX=s64",
      "userId": "15671635726506356258"
     },
     "user_tz": -480
    },
    "id": "qRekNEVJ0s61",
    "outputId": "a490aa12-f6ed-493d-eec4-650f6ff9bbbe"
   },
   "outputs": [
    {
     "name": "stdout",
     "output_type": "stream",
     "text": [
      "WARNING:tensorflow:From /usr/local/lib/python3.6/dist-packages/keras/backend/tensorflow_backend.py:148: The name tf.placeholder_with_default is deprecated. Please use tf.compat.v1.placeholder_with_default instead.\n",
      "\n",
      "WARNING:tensorflow:From /usr/local/lib/python3.6/dist-packages/keras/backend/tensorflow_backend.py:3733: calling dropout (from tensorflow.python.ops.nn_ops) with keep_prob is deprecated and will be removed in a future version.\n",
      "Instructions for updating:\n",
      "Please use `rate` instead of `keep_prob`. Rate should be set to `rate = 1 - keep_prob`.\n"
     ]
    }
   ],
   "source": [
    "from keras import models\n",
    "from keras import layers\n",
    "from keras import optimizers\n",
    "\n",
    "model = models.Sequential()\n",
    "model.add(layers.Flatten(input_shape=conv_base.output_shape[1:]))\n",
    "model.add(layers.Dense(512, activation='relu'))\n",
    "model.add(layers.Dropout(0.5))\n",
    "model.add(layers.Dense(1, activation=None))"
   ]
  },
  {
   "cell_type": "code",
   "execution_count": 0,
   "metadata": {
    "colab": {},
    "colab_type": "code",
    "id": "QP7OeXiK07Hk"
   },
   "outputs": [],
   "source": [
    "new_model = models.Sequential()\n",
    "for l in conv_base.layers:\n",
    "    new_model.add(l)\n",
    "    l.trainable = False\n",
    "\n",
    "new_model.add(model)"
   ]
  },
  {
   "cell_type": "code",
   "execution_count": 0,
   "metadata": {
    "colab": {
     "base_uri": "https://localhost:8080/",
     "height": 34
    },
    "colab_type": "code",
    "executionInfo": {
     "elapsed": 1700,
     "status": "ok",
     "timestamp": 1575981676891,
     "user": {
      "displayName": "林亭佑",
      "photoUrl": "https://lh3.googleusercontent.com/a-/AAuE7mCa4KdkqST8f-rHXHm_rjYPP9hYtgmAqB7qaLgX=s64",
      "userId": "15671635726506356258"
     },
     "user_tz": -480
    },
    "id": "OVhI7fTf073B",
    "outputId": "f07b8720-108c-4632-a430-58d0f1aa07a1"
   },
   "outputs": [
    {
     "name": "stdout",
     "output_type": "stream",
     "text": [
      "False, False, False, False, False, False, False, False, False, False, False, False, False, False, False, False, False, False, True, "
     ]
    }
   ],
   "source": [
    "for layer in new_model.layers:\n",
    "  print(layer.trainable, end=', ')"
   ]
  },
  {
   "cell_type": "code",
   "execution_count": 0,
   "metadata": {
    "colab": {
     "base_uri": "https://localhost:8080/",
     "height": 70
    },
    "colab_type": "code",
    "executionInfo": {
     "elapsed": 1641,
     "status": "ok",
     "timestamp": 1575981696855,
     "user": {
      "displayName": "林亭佑",
      "photoUrl": "https://lh3.googleusercontent.com/a-/AAuE7mCa4KdkqST8f-rHXHm_rjYPP9hYtgmAqB7qaLgX=s64",
      "userId": "15671635726506356258"
     },
     "user_tz": -480
    },
    "id": "VRzHSfGX0_FL",
    "outputId": "bbb4a329-4c9e-43ba-c6ab-fe2313027607"
   },
   "outputs": [
    {
     "name": "stdout",
     "output_type": "stream",
     "text": [
      "WARNING:tensorflow:From /usr/local/lib/python3.6/dist-packages/keras/optimizers.py:793: The name tf.train.Optimizer is deprecated. Please use tf.compat.v1.train.Optimizer instead.\n",
      "\n"
     ]
    }
   ],
   "source": [
    "new_model.compile(optimizer=optimizers.RMSprop(lr=2e-5),\n",
    "                  loss='mse',\n",
    "                  metrics=['mse'])"
   ]
  },
  {
   "cell_type": "code",
   "execution_count": 0,
   "metadata": {
    "colab": {},
    "colab_type": "code",
    "id": "9SbyDvN81ECw"
   },
   "outputs": [],
   "source": [
    "history = new_model.fit_generator(\n",
    "    train_generator,\n",
    "    steps_per_epoch=100,\n",
    "    epochs=50,\n",
    "    validation_data=validation_generator,\n",
    "    validation_steps=50)"
   ]
  },
  {
   "cell_type": "code",
   "execution_count": 0,
   "metadata": {
    "colab": {},
    "colab_type": "code",
    "id": "sWHztadG1I6F"
   },
   "outputs": [],
   "source": [
    "import matplotlib.pyplot as plt\n",
    "\n",
    "# acc = history.history['acc']\n",
    "# val_acc = history.history['val_acc']\n",
    "loss = history.history['loss']\n",
    "val_loss = history.history['val_loss']\n",
    "\n",
    "epochs = range(1, len(loss)+1)\n",
    "\n",
    "plt.plot(epochs, loss, 'bo', label='Training loss')\n",
    "plt.plot(epochs, val_loss, 'b', label='Validation loss')\n",
    "plt.title('Training and validation loss')\n",
    "plt.legend()\n",
    "\n",
    "plt.show()"
   ]
  },
  {
   "cell_type": "code",
   "execution_count": 0,
   "metadata": {
    "colab": {},
    "colab_type": "code",
    "id": "eDP0r0Dr1JUY"
   },
   "outputs": [],
   "source": [
    "pred = new_model.predict_generator(test_generator)\n",
    "pred"
   ]
  },
  {
   "cell_type": "code",
   "execution_count": 0,
   "metadata": {
    "colab": {},
    "colab_type": "code",
    "id": "f5cSGaNd1Jb1"
   },
   "outputs": [],
   "source": [
    "pred_int = pred.astype('int')\n",
    "testdf['Total rebars'] = pred_int\n",
    "testdf.head"
   ]
  },
  {
   "cell_type": "code",
   "execution_count": 0,
   "metadata": {
    "colab": {},
    "colab_type": "code",
    "id": "cCUm_qpb1JkI"
   },
   "outputs": [],
   "source": [
    "testdf.to_csv(\"drive/My Drive/Colab Notebooks/Final Project/Task 1/result7.csv\", index=False, encoding='utf-8')"
   ]
  }
 ],
 "metadata": {
  "accelerator": "GPU",
  "colab": {
   "collapsed_sections": [],
   "name": "yo_Task1_VGG16_unfrozen.ipynb",
   "provenance": []
  },
  "kernelspec": {
   "display_name": "Python 3",
   "language": "python",
   "name": "python3"
  },
  "language_info": {
   "codemirror_mode": {
    "name": "ipython",
    "version": 3
   },
   "file_extension": ".py",
   "mimetype": "text/x-python",
   "name": "python",
   "nbconvert_exporter": "python",
   "pygments_lexer": "ipython3",
   "version": "3.7.4"
  }
 },
 "nbformat": 4,
 "nbformat_minor": 1
}
