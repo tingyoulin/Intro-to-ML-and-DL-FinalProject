{
 "cells": [
  {
   "cell_type": "markdown",
   "metadata": {
    "colab_type": "text",
    "id": "LFT37yUq8Esh"
   },
   "source": [
    "Data Preprocessing"
   ]
  },
  {
   "cell_type": "code",
   "execution_count": 1,
   "metadata": {
    "colab": {},
    "colab_type": "code",
    "id": "F3Bw-Ve38Esk",
    "outputId": "6918d0c8-f653-49c4-e556-3dc939e2ab34"
   },
   "outputs": [
    {
     "data": {
      "text/html": [
       "<div>\n",
       "<style scoped>\n",
       "    .dataframe tbody tr th:only-of-type {\n",
       "        vertical-align: middle;\n",
       "    }\n",
       "\n",
       "    .dataframe tbody tr th {\n",
       "        vertical-align: top;\n",
       "    }\n",
       "\n",
       "    .dataframe thead th {\n",
       "        text-align: right;\n",
       "    }\n",
       "</style>\n",
       "<table border=\"1\" class=\"dataframe\">\n",
       "  <thead>\n",
       "    <tr style=\"text-align: right;\">\n",
       "      <th></th>\n",
       "      <th>Pic Name</th>\n",
       "      <th>number of horizontal rebars</th>\n",
       "      <th>number of vertical rebars</th>\n",
       "      <th>Total rebars</th>\n",
       "    </tr>\n",
       "  </thead>\n",
       "  <tbody>\n",
       "    <tr>\n",
       "      <th>0</th>\n",
       "      <td>20191024_100109_Depth_64669.png</td>\n",
       "      <td>8</td>\n",
       "      <td>9</td>\n",
       "      <td>17</td>\n",
       "    </tr>\n",
       "    <tr>\n",
       "      <th>1</th>\n",
       "      <td>20191024_100109_Depth_64594.png</td>\n",
       "      <td>8</td>\n",
       "      <td>9</td>\n",
       "      <td>17</td>\n",
       "    </tr>\n",
       "    <tr>\n",
       "      <th>2</th>\n",
       "      <td>20191024_100109_Depth_64690.png</td>\n",
       "      <td>8</td>\n",
       "      <td>9</td>\n",
       "      <td>17</td>\n",
       "    </tr>\n",
       "    <tr>\n",
       "      <th>3</th>\n",
       "      <td>20191024_095044_Depth_47399.png</td>\n",
       "      <td>7</td>\n",
       "      <td>7</td>\n",
       "      <td>14</td>\n",
       "    </tr>\n",
       "    <tr>\n",
       "      <th>4</th>\n",
       "      <td>20191024_095044_Depth_47300.png</td>\n",
       "      <td>7</td>\n",
       "      <td>7</td>\n",
       "      <td>14</td>\n",
       "    </tr>\n",
       "  </tbody>\n",
       "</table>\n",
       "</div>"
      ],
      "text/plain": [
       "                          Pic Name  number of horizontal rebars  \\\n",
       "0  20191024_100109_Depth_64669.png                            8   \n",
       "1  20191024_100109_Depth_64594.png                            8   \n",
       "2  20191024_100109_Depth_64690.png                            8   \n",
       "3  20191024_095044_Depth_47399.png                            7   \n",
       "4  20191024_095044_Depth_47300.png                            7   \n",
       "\n",
       "   number of vertical rebars  Total rebars  \n",
       "0                          9            17  \n",
       "1                          9            17  \n",
       "2                          9            17  \n",
       "3                          7            14  \n",
       "4                          7            14  "
      ]
     },
     "execution_count": 1,
     "metadata": {},
     "output_type": "execute_result"
    }
   ],
   "source": [
    "import pandas as pd\n",
    "traindf=pd.read_csv(\"./train.csv\")\n",
    "# traindf['label'] = traindf['label'].astype(str)\n",
    "traindf.head()"
   ]
  },
  {
   "cell_type": "code",
   "execution_count": 2,
   "metadata": {
    "colab": {},
    "colab_type": "code",
    "id": "UKg4br-P8Esp",
    "outputId": "4fb9bed0-c593-4a76-ad21-6ce9ef99664a",
    "scrolled": true
   },
   "outputs": [
    {
     "name": "stderr",
     "output_type": "stream",
     "text": [
      "Using TensorFlow backend.\n"
     ]
    },
    {
     "ename": "TypeError",
     "evalue": "If class_mode=\"binary\", y_col=\"Total rebars\" column values must be strings.",
     "output_type": "error",
     "traceback": [
      "\u001b[1;31m---------------------------------------------------------------------------\u001b[0m",
      "\u001b[1;31mTypeError\u001b[0m                                 Traceback (most recent call last)",
      "\u001b[1;32m<ipython-input-2-acc5b39795fe>\u001b[0m in \u001b[0;36m<module>\u001b[1;34m\u001b[0m\n\u001b[0;32m     18\u001b[0m     \u001b[0mclass_mode\u001b[0m\u001b[1;33m=\u001b[0m\u001b[1;34m\"binary\"\u001b[0m\u001b[1;33m,\u001b[0m\u001b[1;33m\u001b[0m\u001b[1;33m\u001b[0m\u001b[0m\n\u001b[0;32m     19\u001b[0m     \u001b[0mbatch_size\u001b[0m\u001b[1;33m=\u001b[0m\u001b[1;36m20\u001b[0m\u001b[1;33m,\u001b[0m\u001b[1;33m\u001b[0m\u001b[1;33m\u001b[0m\u001b[0m\n\u001b[1;32m---> 20\u001b[1;33m     target_size=(150, 150)) \n\u001b[0m\u001b[0;32m     21\u001b[0m \u001b[1;33m\u001b[0m\u001b[0m\n\u001b[0;32m     22\u001b[0m validation_generator=datagen.flow_from_dataframe( \n",
      "\u001b[1;32m~\\Miniconda3\\lib\\site-packages\\keras\\preprocessing\\image.py\u001b[0m in \u001b[0;36mflow_from_dataframe\u001b[1;34m(self, dataframe, directory, x_col, y_col, weight_col, target_size, color_mode, classes, class_mode, batch_size, shuffle, seed, save_to_dir, save_prefix, save_format, subset, interpolation, validate_filenames, **kwargs)\u001b[0m\n\u001b[0;32m    592\u001b[0m             \u001b[0minterpolation\u001b[0m\u001b[1;33m=\u001b[0m\u001b[0minterpolation\u001b[0m\u001b[1;33m,\u001b[0m\u001b[1;33m\u001b[0m\u001b[1;33m\u001b[0m\u001b[0m\n\u001b[0;32m    593\u001b[0m             \u001b[0mvalidate_filenames\u001b[0m\u001b[1;33m=\u001b[0m\u001b[0mvalidate_filenames\u001b[0m\u001b[1;33m,\u001b[0m\u001b[1;33m\u001b[0m\u001b[1;33m\u001b[0m\u001b[0m\n\u001b[1;32m--> 594\u001b[1;33m             \u001b[1;33m**\u001b[0m\u001b[0mkwargs\u001b[0m\u001b[1;33m\u001b[0m\u001b[1;33m\u001b[0m\u001b[0m\n\u001b[0m\u001b[0;32m    595\u001b[0m         )\n\u001b[0;32m    596\u001b[0m \u001b[1;33m\u001b[0m\u001b[0m\n",
      "\u001b[1;32m~\\Miniconda3\\lib\\site-packages\\keras\\preprocessing\\image.py\u001b[0m in \u001b[0;36m__init__\u001b[1;34m(self, dataframe, directory, image_data_generator, x_col, y_col, weight_col, target_size, color_mode, classes, class_mode, batch_size, shuffle, seed, data_format, save_to_dir, save_prefix, save_format, subset, interpolation, dtype, validate_filenames)\u001b[0m\n\u001b[0;32m    233\u001b[0m             \u001b[0minterpolation\u001b[0m\u001b[1;33m=\u001b[0m\u001b[0minterpolation\u001b[0m\u001b[1;33m,\u001b[0m\u001b[1;33m\u001b[0m\u001b[1;33m\u001b[0m\u001b[0m\n\u001b[0;32m    234\u001b[0m             \u001b[0mdtype\u001b[0m\u001b[1;33m=\u001b[0m\u001b[0mdtype\u001b[0m\u001b[1;33m,\u001b[0m\u001b[1;33m\u001b[0m\u001b[1;33m\u001b[0m\u001b[0m\n\u001b[1;32m--> 235\u001b[1;33m             validate_filenames=validate_filenames)\n\u001b[0m\u001b[0;32m    236\u001b[0m \u001b[1;33m\u001b[0m\u001b[0m\n\u001b[0;32m    237\u001b[0m \u001b[1;33m\u001b[0m\u001b[0m\n",
      "\u001b[1;32m~\\Miniconda3\\lib\\site-packages\\keras_preprocessing\\image\\dataframe_iterator.py\u001b[0m in \u001b[0;36m__init__\u001b[1;34m(self, dataframe, directory, image_data_generator, x_col, y_col, weight_col, target_size, color_mode, classes, class_mode, batch_size, shuffle, seed, data_format, save_to_dir, save_prefix, save_format, subset, interpolation, dtype, validate_filenames)\u001b[0m\n\u001b[0;32m    127\u001b[0m         \u001b[0mself\u001b[0m\u001b[1;33m.\u001b[0m\u001b[0mdtype\u001b[0m \u001b[1;33m=\u001b[0m \u001b[0mdtype\u001b[0m\u001b[1;33m\u001b[0m\u001b[1;33m\u001b[0m\u001b[0m\n\u001b[0;32m    128\u001b[0m         \u001b[1;31m# check that inputs match the required class_mode\u001b[0m\u001b[1;33m\u001b[0m\u001b[1;33m\u001b[0m\u001b[1;33m\u001b[0m\u001b[0m\n\u001b[1;32m--> 129\u001b[1;33m         \u001b[0mself\u001b[0m\u001b[1;33m.\u001b[0m\u001b[0m_check_params\u001b[0m\u001b[1;33m(\u001b[0m\u001b[0mdf\u001b[0m\u001b[1;33m,\u001b[0m \u001b[0mx_col\u001b[0m\u001b[1;33m,\u001b[0m \u001b[0my_col\u001b[0m\u001b[1;33m,\u001b[0m \u001b[0mweight_col\u001b[0m\u001b[1;33m,\u001b[0m \u001b[0mclasses\u001b[0m\u001b[1;33m)\u001b[0m\u001b[1;33m\u001b[0m\u001b[1;33m\u001b[0m\u001b[0m\n\u001b[0m\u001b[0;32m    130\u001b[0m         \u001b[1;32mif\u001b[0m \u001b[0mvalidate_filenames\u001b[0m\u001b[1;33m:\u001b[0m  \u001b[1;31m# check which image files are valid and keep them\u001b[0m\u001b[1;33m\u001b[0m\u001b[1;33m\u001b[0m\u001b[0m\n\u001b[0;32m    131\u001b[0m             \u001b[0mdf\u001b[0m \u001b[1;33m=\u001b[0m \u001b[0mself\u001b[0m\u001b[1;33m.\u001b[0m\u001b[0m_filter_valid_filepaths\u001b[0m\u001b[1;33m(\u001b[0m\u001b[0mdf\u001b[0m\u001b[1;33m,\u001b[0m \u001b[0mx_col\u001b[0m\u001b[1;33m)\u001b[0m\u001b[1;33m\u001b[0m\u001b[1;33m\u001b[0m\u001b[0m\n",
      "\u001b[1;32m~\\Miniconda3\\lib\\site-packages\\keras_preprocessing\\image\\dataframe_iterator.py\u001b[0m in \u001b[0;36m_check_params\u001b[1;34m(self, df, x_col, y_col, weight_col, classes)\u001b[0m\n\u001b[0;32m    187\u001b[0m                 raise TypeError('If class_mode=\"{}\", y_col=\"{}\" column '\n\u001b[0;32m    188\u001b[0m                                 \u001b[1;34m'values must be strings.'\u001b[0m\u001b[1;33m\u001b[0m\u001b[1;33m\u001b[0m\u001b[0m\n\u001b[1;32m--> 189\u001b[1;33m                                 .format(self.class_mode, y_col))\n\u001b[0m\u001b[0;32m    190\u001b[0m         \u001b[1;31m# check that if binary there are only 2 different classes\u001b[0m\u001b[1;33m\u001b[0m\u001b[1;33m\u001b[0m\u001b[1;33m\u001b[0m\u001b[0m\n\u001b[0;32m    191\u001b[0m         \u001b[1;32mif\u001b[0m \u001b[0mself\u001b[0m\u001b[1;33m.\u001b[0m\u001b[0mclass_mode\u001b[0m \u001b[1;33m==\u001b[0m \u001b[1;34m'binary'\u001b[0m\u001b[1;33m:\u001b[0m\u001b[1;33m\u001b[0m\u001b[1;33m\u001b[0m\u001b[0m\n",
      "\u001b[1;31mTypeError\u001b[0m: If class_mode=\"binary\", y_col=\"Total rebars\" column values must be strings."
     ]
    }
   ],
   "source": [
    "import os\n",
    "from keras.preprocessing.image import ImageDataGenerator\n",
    "\n",
    "# base_dir = '.\\\\train_img'\n",
    "# train_dir = os.path.join(base_dir, 'train_img')\n",
    "train_dir = './totalDepthPic'\n",
    "#test_dir = os.path.join(base_dir, 'test_img')\n",
    "\n",
    "\n",
    "datagen=ImageDataGenerator(rescale=1./255., validation_split=0.25)\n",
    "train_generator=datagen.flow_from_dataframe( \n",
    "    dataframe=traindf, \n",
    "    directory=train_dir, \n",
    "    x_col='Pic Name', \n",
    "    y_col='Total rebars', \n",
    "#     has_ext=False, \n",
    "    subset=\"training\", \n",
    "    class_mode=\"binary\", \n",
    "    batch_size=20,\n",
    "    target_size=(150, 150)) \n",
    "\n",
    "validation_generator=datagen.flow_from_dataframe( \n",
    "    dataframe=traindf, \n",
    "    directory=train_dir,\n",
    "    x_col='Pic Name', \n",
    "    y_col='Total rebars', \n",
    "#     has_ext=False, \n",
    "    subset=\"validation\", \n",
    "    class_mode=\"binary\",\n",
    "    batch_size=20,\n",
    "    target_size=(150, 150))"
   ]
  },
  {
   "cell_type": "markdown",
   "metadata": {
    "colab_type": "text",
    "id": "clH-DB398Esr"
   },
   "source": [
    "Model"
   ]
  },
  {
   "cell_type": "code",
   "execution_count": 0,
   "metadata": {
    "colab": {},
    "colab_type": "code",
    "id": "NlClf-Kb8Ess"
   },
   "outputs": [],
   "source": [
    "from keras import layers\n",
    "from keras import models\n",
    "\n",
    "model = models.Sequential()\n",
    "model.add(layers.Conv2D(32, (3, 3), activation='relu',\n",
    "                        input_shape=(150, 150, 3)))\n",
    "model.add(layers.MaxPooling2D((2, 2)))\n",
    "model.add(layers.Conv2D(64, (3, 3), activation='relu'))\n",
    "model.add(layers.MaxPooling2D((2, 2)))\n",
    "model.add(layers.Conv2D(128, (3, 3), activation='relu'))\n",
    "model.add(layers.MaxPooling2D((2, 2)))\n",
    "model.add(layers.Conv2D(128, (3, 3), activation='relu'))\n",
    "model.add(layers.MaxPooling2D((2, 2)))\n",
    "model.add(layers.Flatten())\n",
    "model.add(layers.Dense(512, activation='relu'))\n",
    "model.add(layers.Dropout(0.5))\n",
    "model.add(layers.Dense(100, activation='relu'))\n",
    "model.add(layers.Dropout(0.5))\n",
    "model.add(layers.Dense(1, activation='sigmoid'))"
   ]
  },
  {
   "cell_type": "code",
   "execution_count": 0,
   "metadata": {
    "colab": {},
    "colab_type": "code",
    "id": "X5eqsZ618Esu",
    "outputId": "025f7c2c-ec45-4d2a-9ad9-80761712600c",
    "scrolled": true
   },
   "outputs": [
    {
     "name": "stdout",
     "output_type": "stream",
     "text": [
      "Model: \"sequential_3\"\n",
      "_________________________________________________________________\n",
      "Layer (type)                 Output Shape              Param #   \n",
      "=================================================================\n",
      "conv2d_9 (Conv2D)            (None, 148, 148, 32)      896       \n",
      "_________________________________________________________________\n",
      "max_pooling2d_9 (MaxPooling2 (None, 74, 74, 32)        0         \n",
      "_________________________________________________________________\n",
      "conv2d_10 (Conv2D)           (None, 72, 72, 64)        18496     \n",
      "_________________________________________________________________\n",
      "max_pooling2d_10 (MaxPooling (None, 36, 36, 64)        0         \n",
      "_________________________________________________________________\n",
      "conv2d_11 (Conv2D)           (None, 34, 34, 128)       73856     \n",
      "_________________________________________________________________\n",
      "max_pooling2d_11 (MaxPooling (None, 17, 17, 128)       0         \n",
      "_________________________________________________________________\n",
      "conv2d_12 (Conv2D)           (None, 15, 15, 128)       147584    \n",
      "_________________________________________________________________\n",
      "max_pooling2d_12 (MaxPooling (None, 7, 7, 128)         0         \n",
      "_________________________________________________________________\n",
      "flatten_3 (Flatten)          (None, 6272)              0         \n",
      "_________________________________________________________________\n",
      "dense_4 (Dense)              (None, 512)               3211776   \n",
      "_________________________________________________________________\n",
      "dropout_1 (Dropout)          (None, 512)               0         \n",
      "_________________________________________________________________\n",
      "dense_5 (Dense)              (None, 100)               51300     \n",
      "_________________________________________________________________\n",
      "dropout_2 (Dropout)          (None, 100)               0         \n",
      "_________________________________________________________________\n",
      "dense_6 (Dense)              (None, 1)                 101       \n",
      "=================================================================\n",
      "Total params: 3,504,009\n",
      "Trainable params: 3,504,009\n",
      "Non-trainable params: 0\n",
      "_________________________________________________________________\n"
     ]
    }
   ],
   "source": [
    "model.summary()"
   ]
  },
  {
   "cell_type": "code",
   "execution_count": 0,
   "metadata": {
    "colab": {},
    "colab_type": "code",
    "id": "SoqisFSw8Esv"
   },
   "outputs": [],
   "source": [
    "from keras import optimizers\n",
    "\n",
    "model.compile(loss='binary_crossentropy',\n",
    "              optimizer=optimizers.RMSprop(lr=1e-4),\n",
    "              metrics=['acc'])"
   ]
  },
  {
   "cell_type": "markdown",
   "metadata": {
    "colab_type": "text",
    "id": "Yf6J7egO8Esx"
   },
   "source": [
    "Training"
   ]
  },
  {
   "cell_type": "code",
   "execution_count": 0,
   "metadata": {
    "colab": {},
    "colab_type": "code",
    "id": "bqkFfg3y8Esy",
    "outputId": "09a99319-965f-4106-f3ea-ba75d69f7f0e"
   },
   "outputs": [
    {
     "name": "stdout",
     "output_type": "stream",
     "text": [
      "data batch shape: (20, 150, 150, 3)\n",
      "labels batch shape: (20,)\n"
     ]
    }
   ],
   "source": [
    "for data_batch, labels_batch in train_generator:\n",
    "    print('data batch shape:', data_batch.shape)\n",
    "    print('labels batch shape:', labels_batch.shape)\n",
    "    break"
   ]
  },
  {
   "cell_type": "code",
   "execution_count": 0,
   "metadata": {
    "colab": {},
    "colab_type": "code",
    "id": "x8-GMDYK8Esz",
    "outputId": "ce0ba825-dfd5-4928-ba5d-8cf2404d2eee",
    "scrolled": true
   },
   "outputs": [
    {
     "name": "stdout",
     "output_type": "stream",
     "text": [
      "Epoch 1/50\n",
      "100/100 [==============================] - 18s 178ms/step - loss: 0.3977 - acc: 0.8266 - val_loss: 0.8790 - val_acc: 0.6510\n",
      "Epoch 2/50\n",
      "100/100 [==============================] - 18s 178ms/step - loss: 0.3935 - acc: 0.8210 - val_loss: 0.5627 - val_acc: 0.6313\n",
      "Epoch 3/50\n",
      "100/100 [==============================] - 17s 170ms/step - loss: 0.3727 - acc: 0.8457 - val_loss: 0.8167 - val_acc: 0.6727\n",
      "Epoch 4/50\n",
      "100/100 [==============================] - 16s 160ms/step - loss: 0.3600 - acc: 0.8475 - val_loss: 0.6591 - val_acc: 0.6697\n",
      "Epoch 5/50\n",
      "100/100 [==============================] - 15s 154ms/step - loss: 0.3711 - acc: 0.8357 - val_loss: 0.7651 - val_acc: 0.6690\n",
      "Epoch 6/50\n",
      "100/100 [==============================] - 16s 161ms/step - loss: 0.3429 - acc: 0.8543 - val_loss: 0.7250 - val_acc: 0.6384\n",
      "Epoch 7/50\n",
      "100/100 [==============================] - 15s 154ms/step - loss: 0.3176 - acc: 0.8715 - val_loss: 1.9519 - val_acc: 0.6576\n",
      "Epoch 8/50\n",
      "100/100 [==============================] - 14s 144ms/step - loss: 0.3440 - acc: 0.8560 - val_loss: 1.2297 - val_acc: 0.6667\n",
      "Epoch 9/50\n",
      "100/100 [==============================] - 15s 152ms/step - loss: 0.3081 - acc: 0.8740 - val_loss: 0.5325 - val_acc: 0.6343\n",
      "Epoch 10/50\n",
      "100/100 [==============================] - 15s 153ms/step - loss: 0.2993 - acc: 0.8783 - val_loss: 1.1152 - val_acc: 0.6640\n",
      "Epoch 11/50\n",
      "100/100 [==============================] - 15s 155ms/step - loss: 0.3125 - acc: 0.8665 - val_loss: 1.0994 - val_acc: 0.6283\n",
      "Epoch 12/50\n",
      "100/100 [==============================] - 15s 151ms/step - loss: 0.2971 - acc: 0.8780 - val_loss: 0.8290 - val_acc: 0.6475\n",
      "Epoch 13/50\n",
      "100/100 [==============================] - 15s 152ms/step - loss: 0.2802 - acc: 0.8889 - val_loss: 1.2035 - val_acc: 0.6242\n",
      "Epoch 14/50\n",
      "100/100 [==============================] - 18s 175ms/step - loss: 0.2937 - acc: 0.8805 - val_loss: 1.4061 - val_acc: 0.6495\n",
      "Epoch 15/50\n",
      "100/100 [==============================] - 18s 176ms/step - loss: 0.2585 - acc: 0.8960 - val_loss: 0.8775 - val_acc: 0.6370\n",
      "Epoch 16/50\n",
      "100/100 [==============================] - 18s 175ms/step - loss: 0.2530 - acc: 0.8980 - val_loss: 1.2794 - val_acc: 0.6667\n",
      "Epoch 17/50\n",
      "100/100 [==============================] - 17s 172ms/step - loss: 0.2709 - acc: 0.8915 - val_loss: 1.1642 - val_acc: 0.6364\n",
      "Epoch 18/50\n",
      "100/100 [==============================] - 18s 178ms/step - loss: 0.2193 - acc: 0.9095 - val_loss: 0.8341 - val_acc: 0.6657\n",
      "Epoch 19/50\n",
      "100/100 [==============================] - 16s 159ms/step - loss: 0.2551 - acc: 0.8950 - val_loss: 1.0781 - val_acc: 0.6263\n",
      "Epoch 20/50\n",
      "100/100 [==============================] - 15s 148ms/step - loss: 0.2359 - acc: 0.9075 - val_loss: 1.5738 - val_acc: 0.6150\n",
      "Epoch 21/50\n",
      "100/100 [==============================] - 17s 169ms/step - loss: 0.2202 - acc: 0.9165 - val_loss: 0.8006 - val_acc: 0.6566\n",
      "Epoch 22/50\n",
      " 12/100 [==>...........................] - ETA: 11s - loss: 0.2452 - acc: 0.8875"
     ]
    }
   ],
   "source": [
    "history = model.fit_generator(\n",
    "      train_generator,\n",
    "      steps_per_epoch=100,\n",
    "      epochs=50,\n",
    "      validation_data=validation_generator,\n",
    "      validation_steps=50)"
   ]
  },
  {
   "cell_type": "code",
   "execution_count": 0,
   "metadata": {
    "colab": {},
    "colab_type": "code",
    "id": "XR-gHGFi8Es1"
   },
   "outputs": [],
   "source": [
    "model.save('task2_1206.h5')"
   ]
  },
  {
   "cell_type": "code",
   "execution_count": 0,
   "metadata": {
    "colab": {},
    "colab_type": "code",
    "id": "7t0VonYi8Es3"
   },
   "outputs": [],
   "source": [
    "history_dict = history.history\n",
    "history_dict.keys()"
   ]
  },
  {
   "cell_type": "code",
   "execution_count": 0,
   "metadata": {
    "colab": {},
    "colab_type": "code",
    "id": "c7hc7oDD8Es4"
   },
   "outputs": [],
   "source": [
    "import matplotlib.pyplot as plt\n",
    "%matplotlib inline\n",
    "\n",
    "acc = history.history['acc']\n",
    "val_acc = history.history['val_acc']\n",
    "loss = history.history['loss']\n",
    "val_loss = history.history['val_loss']\n",
    "\n",
    "epochs = range(50+1, 50+len(acc)+1)\n",
    "\n",
    "plt.plot(epochs, acc, 'bo', label='Training acc')\n",
    "plt.plot(epochs, val_acc, 'b', label='Validation acc')\n",
    "plt.title('Training and validation accuracy')\n",
    "plt.legend()\n",
    "plt.savefig('accu.png')\n",
    "\n",
    "plt.figure()\n",
    "\n",
    "plt.plot(epochs, loss, 'bo', label='Training loss')\n",
    "plt.plot(epochs, val_loss, 'b', label='Validation loss')\n",
    "plt.title('Training and validation loss')\n",
    "plt.legend()\n",
    "plt.savefig('loss.png')\n",
    "\n",
    "plt.show()"
   ]
  },
  {
   "cell_type": "markdown",
   "metadata": {
    "colab_type": "text",
    "id": "LwwfF74L8Es6"
   },
   "source": [
    "Test"
   ]
  },
  {
   "cell_type": "code",
   "execution_count": 0,
   "metadata": {
    "colab": {},
    "colab_type": "code",
    "id": "kKl2OtVl8Es6"
   },
   "outputs": [],
   "source": [
    "# 有空也可改成 flow_from_dataframe 不過路徑 & y_col要改\n",
    "\n",
    "base_dir = 'C:\\\\Users\\\\User\\\\Google Drive\\\\Course\\\\Graduate 3\\\\Introduction to Machine Learning and Deep Learning\\\\Final Project\\\\Task 2\\\\Data'\n",
    "test_dir = os.path.join(base_dir, 'test_img')\n",
    "\n",
    "test_datagen=ImageDataGenerator(rescale=1./255)\n",
    "test_generator = test_datagen.flow_from_directory(\n",
    "    # This is the target directory\n",
    "    test_dir,\n",
    "    # All images will be resized to 224x224\n",
    "    target_size=(150, 150),\n",
    "    color_mode='rgb',\n",
    "    shuffle=False,\n",
    "#     batch_size=20,\n",
    "    class_mode='categorical'\n",
    ")\n",
    "\n",
    "# C:\\Users\\User-3\\Desktop\\Course_ML\\FinalProject\\Task2\\test_img\\test_img\n"
   ]
  },
  {
   "cell_type": "code",
   "execution_count": 0,
   "metadata": {
    "colab": {},
    "colab_type": "code",
    "id": "ddknoguG8Es8"
   },
   "outputs": [],
   "source": [
    "def to_class(i):\n",
    "    new = list()\n",
    "    for e in i:\n",
    "        if e >= 0.5:\n",
    "            new.append(1)\n",
    "        else:\n",
    "            new.append(0)\n",
    "    return new"
   ]
  },
  {
   "cell_type": "code",
   "execution_count": 0,
   "metadata": {
    "colab": {},
    "colab_type": "code",
    "id": "uI0XfGvk8Es-"
   },
   "outputs": [],
   "source": [
    "# test預測的部分還沒弄好\n",
    "import numpy as np\n",
    "# test_generator.reset()\n",
    "#pred = model.predict_generator(test_generator,steps=32)\n",
    "#batch_size = 32\n",
    "#steps = 1250 / batch_size\n",
    "# predictions = model.predict_generator(test_generator, steps=32)   # 輸出結果數量=1009\n",
    "# print(predictions)\n",
    "#predicted_classes = convert_to_class(predictions)\n",
    "\n",
    "pred = model.predict_generator(test_generator)\n",
    "print(len(pred))\n",
    "print(pred)\n",
    "# Get classes by max element in np (as a list)\n",
    "# classes = list(np.argmax(predictions, axis=1))\n",
    "classes = to_class(list(pred.reshape(-1)))\n",
    "# Get filenames (set shuffle=false in generator is important)\n",
    "filenames = test_generator.filenames"
   ]
  },
  {
   "cell_type": "code",
   "execution_count": 0,
   "metadata": {
    "colab": {},
    "colab_type": "code",
    "id": "40EUx9tQ8Es_"
   },
   "outputs": [],
   "source": [
    "np.array(classes).mean()"
   ]
  },
  {
   "cell_type": "code",
   "execution_count": 0,
   "metadata": {
    "colab": {},
    "colab_type": "code",
    "id": "yn95fU8k8EtB"
   },
   "outputs": [],
   "source": [
    "# 還沒試 rotation等等\n",
    "# https://medium.com/@jackycsie/%E5%B0%8F%E6%95%B8%E6%93%9A%E7%9A%84%E9%80%86%E8%A5%B2-c04fee852539\n",
    "# ReduceLROnPlateau\n",
    "#　https://hackmd.io/@allen108108/SyCsOIkxB"
   ]
  },
  {
   "cell_type": "code",
   "execution_count": 0,
   "metadata": {
    "colab": {},
    "colab_type": "code",
    "id": "0ULDCWLT8EtC",
    "scrolled": true
   },
   "outputs": [],
   "source": [
    "output = pd.DataFrame(np.array([filenames, classes]).transpose(), columns=['image', 'label'])\n",
    "output"
   ]
  },
  {
   "cell_type": "code",
   "execution_count": 0,
   "metadata": {
    "colab": {},
    "colab_type": "code",
    "id": "yJ5OGmTy8EtE",
    "scrolled": true
   },
   "outputs": [],
   "source": [
    "def revise(x):\n",
    "    return x.split('\\\\')[1]"
   ]
  },
  {
   "cell_type": "code",
   "execution_count": 0,
   "metadata": {
    "colab": {},
    "colab_type": "code",
    "id": "2se7GLWf8EtG",
    "scrolled": true
   },
   "outputs": [],
   "source": [
    "output['image'] = output['image'].apply(revise)\n",
    "output"
   ]
  },
  {
   "cell_type": "code",
   "execution_count": 0,
   "metadata": {
    "colab": {},
    "colab_type": "code",
    "id": "xUB25Eje8EtI"
   },
   "outputs": [],
   "source": [
    "output.to_csv('result4.csv', index=False, encoding='utf-8')"
   ]
  }
 ],
 "metadata": {
  "accelerator": "GPU",
  "colab": {
   "collapsed_sections": [],
   "name": "Task1.ipynb",
   "provenance": []
  },
  "kernelspec": {
   "display_name": "Python 3",
   "language": "python",
   "name": "python3"
  },
  "language_info": {
   "codemirror_mode": {
    "name": "ipython",
    "version": 3
   },
   "file_extension": ".py",
   "mimetype": "text/x-python",
   "name": "python",
   "nbconvert_exporter": "python",
   "pygments_lexer": "ipython3",
   "version": "3.7.4"
  }
 },
 "nbformat": 4,
 "nbformat_minor": 1
}
