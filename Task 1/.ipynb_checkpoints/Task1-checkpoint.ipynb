{
 "cells": [
  {
   "cell_type": "markdown",
   "metadata": {},
   "source": [
    "Data Preprocessing"
   ]
  },
  {
   "cell_type": "code",
   "execution_count": 19,
   "metadata": {},
   "outputs": [
    {
     "data": {
      "text/html": [
       "<div>\n",
       "<style scoped>\n",
       "    .dataframe tbody tr th:only-of-type {\n",
       "        vertical-align: middle;\n",
       "    }\n",
       "\n",
       "    .dataframe tbody tr th {\n",
       "        vertical-align: top;\n",
       "    }\n",
       "\n",
       "    .dataframe thead th {\n",
       "        text-align: right;\n",
       "    }\n",
       "</style>\n",
       "<table border=\"1\" class=\"dataframe\">\n",
       "  <thead>\n",
       "    <tr style=\"text-align: right;\">\n",
       "      <th></th>\n",
       "      <th>image</th>\n",
       "      <th>label</th>\n",
       "    </tr>\n",
       "  </thead>\n",
       "  <tbody>\n",
       "    <tr>\n",
       "      <th>0</th>\n",
       "      <td>0000.png</td>\n",
       "      <td>0</td>\n",
       "    </tr>\n",
       "    <tr>\n",
       "      <th>1</th>\n",
       "      <td>0001.png</td>\n",
       "      <td>1</td>\n",
       "    </tr>\n",
       "    <tr>\n",
       "      <th>2</th>\n",
       "      <td>0002.png</td>\n",
       "      <td>1</td>\n",
       "    </tr>\n",
       "    <tr>\n",
       "      <th>3</th>\n",
       "      <td>0003.png</td>\n",
       "      <td>1</td>\n",
       "    </tr>\n",
       "    <tr>\n",
       "      <th>4</th>\n",
       "      <td>0004.png</td>\n",
       "      <td>1</td>\n",
       "    </tr>\n",
       "  </tbody>\n",
       "</table>\n",
       "</div>"
      ],
      "text/plain": [
       "      image label\n",
       "0  0000.png     0\n",
       "1  0001.png     1\n",
       "2  0002.png     1\n",
       "3  0003.png     1\n",
       "4  0004.png     1"
      ]
     },
     "execution_count": 19,
     "metadata": {},
     "output_type": "execute_result"
    }
   ],
   "source": [
    "import pandas as pd\n",
    "traindf=pd.read_csv(\"./train.csv\")\n",
    "traindf['label'] = traindf['label'].astype(str)\n",
    "traindf.head()"
   ]
  },
  {
   "cell_type": "code",
   "execution_count": 20,
   "metadata": {
    "scrolled": true
   },
   "outputs": [
    {
     "name": "stdout",
     "output_type": "stream",
     "text": [
      "Found 3750 validated image filenames belonging to 2 classes.\n",
      "Found 1250 validated image filenames belonging to 2 classes.\n"
     ]
    }
   ],
   "source": [
    "import os\n",
    "from keras.preprocessing.image import ImageDataGenerator\n",
    "\n",
    "# base_dir = '.\\\\train_img'\n",
    "# train_dir = os.path.join(base_dir, 'train_img')\n",
    "train_dir = './totalDepthPic'\n",
    "#test_dir = os.path.join(base_dir, 'test_img')\n",
    "\n",
    "\n",
    "datagen=ImageDataGenerator(rescale=1./255., validation_split=0.25)\n",
    "train_generator=datagen.flow_from_dataframe( \n",
    "    dataframe=traindf, \n",
    "    directory=train_dir, \n",
    "    x_col=\"image\", \n",
    "    y_col=\"label\", \n",
    "#     has_ext=False, \n",
    "    subset=\"training\", \n",
    "    class_mode=\"binary\", \n",
    "    batch_size=20,\n",
    "    target_size=(150, 150)) \n",
    "\n",
    "validation_generator=datagen.flow_from_dataframe( \n",
    "    dataframe=traindf, \n",
    "    directory=train_dir, \n",
    "    x_col=\"image\", \n",
    "    y_col=\"label\", \n",
    "#     has_ext=False, \n",
    "    subset=\"validation\", \n",
    "    class_mode=\"binary\",\n",
    "    batch_size=20,\n",
    "    target_size=(150, 150))"
   ]
  },
  {
   "cell_type": "markdown",
   "metadata": {},
   "source": [
    "Model"
   ]
  },
  {
   "cell_type": "code",
   "execution_count": 22,
   "metadata": {},
   "outputs": [],
   "source": [
    "from keras import layers\n",
    "from keras import models\n",
    "\n",
    "model = models.Sequential()\n",
    "model.add(layers.Conv2D(32, (3, 3), activation='relu',\n",
    "                        input_shape=(150, 150, 3)))\n",
    "model.add(layers.MaxPooling2D((2, 2)))\n",
    "model.add(layers.Conv2D(64, (3, 3), activation='relu'))\n",
    "model.add(layers.MaxPooling2D((2, 2)))\n",
    "model.add(layers.Conv2D(128, (3, 3), activation='relu'))\n",
    "model.add(layers.MaxPooling2D((2, 2)))\n",
    "model.add(layers.Conv2D(128, (3, 3), activation='relu'))\n",
    "model.add(layers.MaxPooling2D((2, 2)))\n",
    "model.add(layers.Flatten())\n",
    "model.add(layers.Dense(512, activation='relu'))\n",
    "model.add(layers.Dropout(0.5))\n",
    "model.add(layers.Dense(100, activation='relu'))\n",
    "model.add(layers.Dropout(0.5))\n",
    "model.add(layers.Dense(1, activation='sigmoid'))"
   ]
  },
  {
   "cell_type": "code",
   "execution_count": 23,
   "metadata": {
    "scrolled": true
   },
   "outputs": [
    {
     "name": "stdout",
     "output_type": "stream",
     "text": [
      "Model: \"sequential_3\"\n",
      "_________________________________________________________________\n",
      "Layer (type)                 Output Shape              Param #   \n",
      "=================================================================\n",
      "conv2d_9 (Conv2D)            (None, 148, 148, 32)      896       \n",
      "_________________________________________________________________\n",
      "max_pooling2d_9 (MaxPooling2 (None, 74, 74, 32)        0         \n",
      "_________________________________________________________________\n",
      "conv2d_10 (Conv2D)           (None, 72, 72, 64)        18496     \n",
      "_________________________________________________________________\n",
      "max_pooling2d_10 (MaxPooling (None, 36, 36, 64)        0         \n",
      "_________________________________________________________________\n",
      "conv2d_11 (Conv2D)           (None, 34, 34, 128)       73856     \n",
      "_________________________________________________________________\n",
      "max_pooling2d_11 (MaxPooling (None, 17, 17, 128)       0         \n",
      "_________________________________________________________________\n",
      "conv2d_12 (Conv2D)           (None, 15, 15, 128)       147584    \n",
      "_________________________________________________________________\n",
      "max_pooling2d_12 (MaxPooling (None, 7, 7, 128)         0         \n",
      "_________________________________________________________________\n",
      "flatten_3 (Flatten)          (None, 6272)              0         \n",
      "_________________________________________________________________\n",
      "dense_4 (Dense)              (None, 512)               3211776   \n",
      "_________________________________________________________________\n",
      "dropout_1 (Dropout)          (None, 512)               0         \n",
      "_________________________________________________________________\n",
      "dense_5 (Dense)              (None, 100)               51300     \n",
      "_________________________________________________________________\n",
      "dropout_2 (Dropout)          (None, 100)               0         \n",
      "_________________________________________________________________\n",
      "dense_6 (Dense)              (None, 1)                 101       \n",
      "=================================================================\n",
      "Total params: 3,504,009\n",
      "Trainable params: 3,504,009\n",
      "Non-trainable params: 0\n",
      "_________________________________________________________________\n"
     ]
    }
   ],
   "source": [
    "model.summary()"
   ]
  },
  {
   "cell_type": "code",
   "execution_count": 24,
   "metadata": {},
   "outputs": [],
   "source": [
    "from keras import optimizers\n",
    "\n",
    "model.compile(loss='binary_crossentropy',\n",
    "              optimizer=optimizers.RMSprop(lr=1e-4),\n",
    "              metrics=['acc'])"
   ]
  },
  {
   "cell_type": "markdown",
   "metadata": {},
   "source": [
    "Training"
   ]
  },
  {
   "cell_type": "code",
   "execution_count": 25,
   "metadata": {},
   "outputs": [
    {
     "name": "stdout",
     "output_type": "stream",
     "text": [
      "data batch shape: (20, 150, 150, 3)\n",
      "labels batch shape: (20,)\n"
     ]
    }
   ],
   "source": [
    "for data_batch, labels_batch in train_generator:\n",
    "    print('data batch shape:', data_batch.shape)\n",
    "    print('labels batch shape:', labels_batch.shape)\n",
    "    break"
   ]
  },
  {
   "cell_type": "code",
   "execution_count": null,
   "metadata": {
    "scrolled": true
   },
   "outputs": [
    {
     "name": "stdout",
     "output_type": "stream",
     "text": [
      "Epoch 1/50\n",
      "100/100 [==============================] - 18s 178ms/step - loss: 0.3977 - acc: 0.8266 - val_loss: 0.8790 - val_acc: 0.6510\n",
      "Epoch 2/50\n",
      "100/100 [==============================] - 18s 178ms/step - loss: 0.3935 - acc: 0.8210 - val_loss: 0.5627 - val_acc: 0.6313\n",
      "Epoch 3/50\n",
      "100/100 [==============================] - 17s 170ms/step - loss: 0.3727 - acc: 0.8457 - val_loss: 0.8167 - val_acc: 0.6727\n",
      "Epoch 4/50\n",
      "100/100 [==============================] - 16s 160ms/step - loss: 0.3600 - acc: 0.8475 - val_loss: 0.6591 - val_acc: 0.6697\n",
      "Epoch 5/50\n",
      "100/100 [==============================] - 15s 154ms/step - loss: 0.3711 - acc: 0.8357 - val_loss: 0.7651 - val_acc: 0.6690\n",
      "Epoch 6/50\n",
      "100/100 [==============================] - 16s 161ms/step - loss: 0.3429 - acc: 0.8543 - val_loss: 0.7250 - val_acc: 0.6384\n",
      "Epoch 7/50\n",
      "100/100 [==============================] - 15s 154ms/step - loss: 0.3176 - acc: 0.8715 - val_loss: 1.9519 - val_acc: 0.6576\n",
      "Epoch 8/50\n",
      "100/100 [==============================] - 14s 144ms/step - loss: 0.3440 - acc: 0.8560 - val_loss: 1.2297 - val_acc: 0.6667\n",
      "Epoch 9/50\n",
      "100/100 [==============================] - 15s 152ms/step - loss: 0.3081 - acc: 0.8740 - val_loss: 0.5325 - val_acc: 0.6343\n",
      "Epoch 10/50\n",
      "100/100 [==============================] - 15s 153ms/step - loss: 0.2993 - acc: 0.8783 - val_loss: 1.1152 - val_acc: 0.6640\n",
      "Epoch 11/50\n",
      "100/100 [==============================] - 15s 155ms/step - loss: 0.3125 - acc: 0.8665 - val_loss: 1.0994 - val_acc: 0.6283\n",
      "Epoch 12/50\n",
      "100/100 [==============================] - 15s 151ms/step - loss: 0.2971 - acc: 0.8780 - val_loss: 0.8290 - val_acc: 0.6475\n",
      "Epoch 13/50\n",
      "100/100 [==============================] - 15s 152ms/step - loss: 0.2802 - acc: 0.8889 - val_loss: 1.2035 - val_acc: 0.6242\n",
      "Epoch 14/50\n",
      "100/100 [==============================] - 18s 175ms/step - loss: 0.2937 - acc: 0.8805 - val_loss: 1.4061 - val_acc: 0.6495\n",
      "Epoch 15/50\n",
      "100/100 [==============================] - 18s 176ms/step - loss: 0.2585 - acc: 0.8960 - val_loss: 0.8775 - val_acc: 0.6370\n",
      "Epoch 16/50\n",
      "100/100 [==============================] - 18s 175ms/step - loss: 0.2530 - acc: 0.8980 - val_loss: 1.2794 - val_acc: 0.6667\n",
      "Epoch 17/50\n",
      "100/100 [==============================] - 17s 172ms/step - loss: 0.2709 - acc: 0.8915 - val_loss: 1.1642 - val_acc: 0.6364\n",
      "Epoch 18/50\n",
      "100/100 [==============================] - 18s 178ms/step - loss: 0.2193 - acc: 0.9095 - val_loss: 0.8341 - val_acc: 0.6657\n",
      "Epoch 19/50\n",
      "100/100 [==============================] - 16s 159ms/step - loss: 0.2551 - acc: 0.8950 - val_loss: 1.0781 - val_acc: 0.6263\n",
      "Epoch 20/50\n",
      "100/100 [==============================] - 15s 148ms/step - loss: 0.2359 - acc: 0.9075 - val_loss: 1.5738 - val_acc: 0.6150\n",
      "Epoch 21/50\n",
      "100/100 [==============================] - 17s 169ms/step - loss: 0.2202 - acc: 0.9165 - val_loss: 0.8006 - val_acc: 0.6566\n",
      "Epoch 22/50\n",
      " 12/100 [==>...........................] - ETA: 11s - loss: 0.2452 - acc: 0.8875"
     ]
    }
   ],
   "source": [
    "history = model.fit_generator(\n",
    "      train_generator,\n",
    "      steps_per_epoch=100,\n",
    "      epochs=50,\n",
    "      validation_data=validation_generator,\n",
    "      validation_steps=50)"
   ]
  },
  {
   "cell_type": "code",
   "execution_count": null,
   "metadata": {},
   "outputs": [],
   "source": [
    "model.save('task2_1206.h5')"
   ]
  },
  {
   "cell_type": "code",
   "execution_count": null,
   "metadata": {},
   "outputs": [],
   "source": [
    "history_dict = history.history\n",
    "history_dict.keys()"
   ]
  },
  {
   "cell_type": "code",
   "execution_count": null,
   "metadata": {},
   "outputs": [],
   "source": [
    "import matplotlib.pyplot as plt\n",
    "%matplotlib inline\n",
    "\n",
    "acc = history.history['acc']\n",
    "val_acc = history.history['val_acc']\n",
    "loss = history.history['loss']\n",
    "val_loss = history.history['val_loss']\n",
    "\n",
    "epochs = range(50+1, 50+len(acc)+1)\n",
    "\n",
    "plt.plot(epochs, acc, 'bo', label='Training acc')\n",
    "plt.plot(epochs, val_acc, 'b', label='Validation acc')\n",
    "plt.title('Training and validation accuracy')\n",
    "plt.legend()\n",
    "plt.savefig('accu.png')\n",
    "\n",
    "plt.figure()\n",
    "\n",
    "plt.plot(epochs, loss, 'bo', label='Training loss')\n",
    "plt.plot(epochs, val_loss, 'b', label='Validation loss')\n",
    "plt.title('Training and validation loss')\n",
    "plt.legend()\n",
    "plt.savefig('loss.png')\n",
    "\n",
    "plt.show()"
   ]
  },
  {
   "cell_type": "markdown",
   "metadata": {},
   "source": [
    "Test"
   ]
  },
  {
   "cell_type": "code",
   "execution_count": null,
   "metadata": {},
   "outputs": [],
   "source": [
    "# 有空也可改成 flow_from_dataframe 不過路徑 & y_col要改\n",
    "\n",
    "base_dir = 'C:\\\\Users\\\\User\\\\Google Drive\\\\Course\\\\Graduate 3\\\\Introduction to Machine Learning and Deep Learning\\\\Final Project\\\\Task 2\\\\Data'\n",
    "test_dir = os.path.join(base_dir, 'test_img')\n",
    "\n",
    "test_datagen=ImageDataGenerator(rescale=1./255)\n",
    "test_generator = test_datagen.flow_from_directory(\n",
    "    # This is the target directory\n",
    "    test_dir,\n",
    "    # All images will be resized to 224x224\n",
    "    target_size=(150, 150),\n",
    "    color_mode='rgb',\n",
    "    shuffle=False,\n",
    "#     batch_size=20,\n",
    "    class_mode='categorical'\n",
    ")\n",
    "\n",
    "# C:\\Users\\User-3\\Desktop\\Course_ML\\FinalProject\\Task2\\test_img\\test_img\n"
   ]
  },
  {
   "cell_type": "code",
   "execution_count": null,
   "metadata": {},
   "outputs": [],
   "source": [
    "def to_class(i):\n",
    "    new = list()\n",
    "    for e in i:\n",
    "        if e >= 0.5:\n",
    "            new.append(1)\n",
    "        else:\n",
    "            new.append(0)\n",
    "    return new"
   ]
  },
  {
   "cell_type": "code",
   "execution_count": null,
   "metadata": {},
   "outputs": [],
   "source": [
    "# test預測的部分還沒弄好\n",
    "import numpy as np\n",
    "# test_generator.reset()\n",
    "#pred = model.predict_generator(test_generator,steps=32)\n",
    "#batch_size = 32\n",
    "#steps = 1250 / batch_size\n",
    "# predictions = model.predict_generator(test_generator, steps=32)   # 輸出結果數量=1009\n",
    "# print(predictions)\n",
    "#predicted_classes = convert_to_class(predictions)\n",
    "\n",
    "pred = model.predict_generator(test_generator)\n",
    "print(len(pred))\n",
    "print(pred)\n",
    "# Get classes by max element in np (as a list)\n",
    "# classes = list(np.argmax(predictions, axis=1))\n",
    "classes = to_class(list(pred.reshape(-1)))\n",
    "# Get filenames (set shuffle=false in generator is important)\n",
    "filenames = test_generator.filenames"
   ]
  },
  {
   "cell_type": "code",
   "execution_count": null,
   "metadata": {},
   "outputs": [],
   "source": [
    "np.array(classes).mean()"
   ]
  },
  {
   "cell_type": "code",
   "execution_count": null,
   "metadata": {},
   "outputs": [],
   "source": [
    "# 還沒試 rotation等等\n",
    "# https://medium.com/@jackycsie/%E5%B0%8F%E6%95%B8%E6%93%9A%E7%9A%84%E9%80%86%E8%A5%B2-c04fee852539\n",
    "# ReduceLROnPlateau\n",
    "#　https://hackmd.io/@allen108108/SyCsOIkxB"
   ]
  },
  {
   "cell_type": "code",
   "execution_count": null,
   "metadata": {
    "scrolled": true
   },
   "outputs": [],
   "source": [
    "output = pd.DataFrame(np.array([filenames, classes]).transpose(), columns=['image', 'label'])\n",
    "output"
   ]
  },
  {
   "cell_type": "code",
   "execution_count": null,
   "metadata": {
    "scrolled": true
   },
   "outputs": [],
   "source": [
    "def revise(x):\n",
    "    return x.split('\\\\')[1]"
   ]
  },
  {
   "cell_type": "code",
   "execution_count": null,
   "metadata": {
    "scrolled": true
   },
   "outputs": [],
   "source": [
    "output['image'] = output['image'].apply(revise)\n",
    "output"
   ]
  },
  {
   "cell_type": "code",
   "execution_count": null,
   "metadata": {},
   "outputs": [],
   "source": [
    "output.to_csv('result4.csv', index=False, encoding='utf-8')"
   ]
  }
 ],
 "metadata": {
  "kernelspec": {
   "display_name": "Python 3",
   "language": "python",
   "name": "python3"
  },
  "language_info": {
   "codemirror_mode": {
    "name": "ipython",
    "version": 3
   },
   "file_extension": ".py",
   "mimetype": "text/x-python",
   "name": "python",
   "nbconvert_exporter": "python",
   "pygments_lexer": "ipython3",
   "version": "3.7.4"
  }
 },
 "nbformat": 4,
 "nbformat_minor": 2
}
