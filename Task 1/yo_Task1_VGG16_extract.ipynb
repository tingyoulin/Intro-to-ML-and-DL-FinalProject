{
 "cells": [
  {
   "cell_type": "code",
   "execution_count": 0,
   "metadata": {
    "colab": {
     "base_uri": "https://localhost:8080/",
     "height": 121
    },
    "colab_type": "code",
    "executionInfo": {
     "elapsed": 41046,
     "status": "ok",
     "timestamp": 1576079970042,
     "user": {
      "displayName": "林亭佑",
      "photoUrl": "https://lh3.googleusercontent.com/a-/AAuE7mCa4KdkqST8f-rHXHm_rjYPP9hYtgmAqB7qaLgX=s64",
      "userId": "15671635726506356258"
     },
     "user_tz": -480
    },
    "id": "FvlIv8nMu98o",
    "outputId": "ce3bcae4-4383-4f77-da96-d7ccb48c4641"
   },
   "outputs": [
    {
     "name": "stdout",
     "output_type": "stream",
     "text": [
      "Go to this URL in a browser: https://accounts.google.com/o/oauth2/auth?client_id=947318989803-6bn6qk8qdgf4n4g3pfee6491hc0brc4i.apps.googleusercontent.com&redirect_uri=urn%3aietf%3awg%3aoauth%3a2.0%3aoob&response_type=code&scope=email%20https%3a%2f%2fwww.googleapis.com%2fauth%2fdocs.test%20https%3a%2f%2fwww.googleapis.com%2fauth%2fdrive%20https%3a%2f%2fwww.googleapis.com%2fauth%2fdrive.photos.readonly%20https%3a%2f%2fwww.googleapis.com%2fauth%2fpeopleapi.readonly\n",
      "\n",
      "Enter your authorization code:\n",
      "··········\n",
      "Mounted at /content/drive\n"
     ]
    }
   ],
   "source": [
    "from google.colab import drive\n",
    "drive.mount('/content/drive')"
   ]
  },
  {
   "cell_type": "markdown",
   "metadata": {
    "colab_type": "text",
    "id": "_VPaVGyil4gi"
   },
   "source": [
    "Data Preprocessing"
   ]
  },
  {
   "cell_type": "code",
   "execution_count": 1,
   "metadata": {
    "colab": {},
    "colab_type": "code",
    "collapsed": true,
    "id": "foW-KgLGlRCz"
   },
   "outputs": [
    {
     "data": {
      "text/html": [
       "<div>\n",
       "<style scoped>\n",
       "    .dataframe tbody tr th:only-of-type {\n",
       "        vertical-align: middle;\n",
       "    }\n",
       "\n",
       "    .dataframe tbody tr th {\n",
       "        vertical-align: top;\n",
       "    }\n",
       "\n",
       "    .dataframe thead th {\n",
       "        text-align: right;\n",
       "    }\n",
       "</style>\n",
       "<table border=\"1\" class=\"dataframe\">\n",
       "  <thead>\n",
       "    <tr style=\"text-align: right;\">\n",
       "      <th></th>\n",
       "      <th>Pic Name</th>\n",
       "      <th>number of horizontal rebars</th>\n",
       "      <th>number of vertical rebars</th>\n",
       "      <th>Total rebars</th>\n",
       "    </tr>\n",
       "  </thead>\n",
       "  <tbody>\n",
       "    <tr>\n",
       "      <th>0</th>\n",
       "      <td>20191024_100109_Depth_64669.png</td>\n",
       "      <td>8</td>\n",
       "      <td>9</td>\n",
       "      <td>17</td>\n",
       "    </tr>\n",
       "    <tr>\n",
       "      <th>1</th>\n",
       "      <td>20191024_100109_Depth_64594.png</td>\n",
       "      <td>8</td>\n",
       "      <td>9</td>\n",
       "      <td>17</td>\n",
       "    </tr>\n",
       "    <tr>\n",
       "      <th>2</th>\n",
       "      <td>20191024_100109_Depth_64690.png</td>\n",
       "      <td>8</td>\n",
       "      <td>9</td>\n",
       "      <td>17</td>\n",
       "    </tr>\n",
       "    <tr>\n",
       "      <th>3</th>\n",
       "      <td>20191024_095044_Depth_47399.png</td>\n",
       "      <td>7</td>\n",
       "      <td>7</td>\n",
       "      <td>14</td>\n",
       "    </tr>\n",
       "    <tr>\n",
       "      <th>4</th>\n",
       "      <td>20191024_095044_Depth_47300.png</td>\n",
       "      <td>7</td>\n",
       "      <td>7</td>\n",
       "      <td>14</td>\n",
       "    </tr>\n",
       "  </tbody>\n",
       "</table>\n",
       "</div>"
      ],
      "text/plain": [
       "                          Pic Name  number of horizontal rebars  \\\n",
       "0  20191024_100109_Depth_64669.png                            8   \n",
       "1  20191024_100109_Depth_64594.png                            8   \n",
       "2  20191024_100109_Depth_64690.png                            8   \n",
       "3  20191024_095044_Depth_47399.png                            7   \n",
       "4  20191024_095044_Depth_47300.png                            7   \n",
       "\n",
       "   number of vertical rebars  Total rebars  \n",
       "0                          9            17  \n",
       "1                          9            17  \n",
       "2                          9            17  \n",
       "3                          7            14  \n",
       "4                          7            14  "
      ]
     },
     "execution_count": 1,
     "metadata": {},
     "output_type": "execute_result"
    }
   ],
   "source": [
    "import pandas as pd\n",
    "df=pd.read_csv(\"./train.csv\")\n",
    "# df=pd.read_csv(\"drive/My Drive/Colab Notebooks/Final Project/Task 1/train.csv\")\n",
    "df.head()"
   ]
  },
  {
   "cell_type": "code",
   "execution_count": 2,
   "metadata": {
    "colab": {},
    "colab_type": "code",
    "collapsed": true,
    "id": "_XJhFqSjwaqv"
   },
   "outputs": [
    {
     "data": {
      "text/html": [
       "<div>\n",
       "<style scoped>\n",
       "    .dataframe tbody tr th:only-of-type {\n",
       "        vertical-align: middle;\n",
       "    }\n",
       "\n",
       "    .dataframe tbody tr th {\n",
       "        vertical-align: top;\n",
       "    }\n",
       "\n",
       "    .dataframe thead th {\n",
       "        text-align: right;\n",
       "    }\n",
       "</style>\n",
       "<table border=\"1\" class=\"dataframe\">\n",
       "  <thead>\n",
       "    <tr style=\"text-align: right;\">\n",
       "      <th></th>\n",
       "      <th>Pic Name</th>\n",
       "      <th>number of horizontal rebars</th>\n",
       "      <th>number of vertical rebars</th>\n",
       "      <th>Total rebars</th>\n",
       "    </tr>\n",
       "  </thead>\n",
       "  <tbody>\n",
       "    <tr>\n",
       "      <th>223</th>\n",
       "      <td>20190531_105600_Depth_5512.png</td>\n",
       "      <td>13</td>\n",
       "      <td>14</td>\n",
       "      <td>27</td>\n",
       "    </tr>\n",
       "    <tr>\n",
       "      <th>111</th>\n",
       "      <td>20190531_100633_Depth_19301.png</td>\n",
       "      <td>4</td>\n",
       "      <td>7</td>\n",
       "      <td>11</td>\n",
       "    </tr>\n",
       "    <tr>\n",
       "      <th>288</th>\n",
       "      <td>20191024_095044_Depth_47340.png</td>\n",
       "      <td>7</td>\n",
       "      <td>7</td>\n",
       "      <td>14</td>\n",
       "    </tr>\n",
       "    <tr>\n",
       "      <th>26</th>\n",
       "      <td>20191024_100019_Depth_63466.png</td>\n",
       "      <td>7</td>\n",
       "      <td>8</td>\n",
       "      <td>15</td>\n",
       "    </tr>\n",
       "    <tr>\n",
       "      <th>482</th>\n",
       "      <td>20191024_100019_Depth_63506.png</td>\n",
       "      <td>7</td>\n",
       "      <td>8</td>\n",
       "      <td>15</td>\n",
       "    </tr>\n",
       "  </tbody>\n",
       "</table>\n",
       "</div>"
      ],
      "text/plain": [
       "                            Pic Name  number of horizontal rebars  \\\n",
       "223   20190531_105600_Depth_5512.png                           13   \n",
       "111  20190531_100633_Depth_19301.png                            4   \n",
       "288  20191024_095044_Depth_47340.png                            7   \n",
       "26   20191024_100019_Depth_63466.png                            7   \n",
       "482  20191024_100019_Depth_63506.png                            7   \n",
       "\n",
       "     number of vertical rebars  Total rebars  \n",
       "223                         14            27  \n",
       "111                          7            11  \n",
       "288                          7            14  \n",
       "26                           8            15  \n",
       "482                          8            15  "
      ]
     },
     "metadata": {},
     "output_type": "display_data"
    },
    {
     "data": {
      "text/html": [
       "<div>\n",
       "<style scoped>\n",
       "    .dataframe tbody tr th:only-of-type {\n",
       "        vertical-align: middle;\n",
       "    }\n",
       "\n",
       "    .dataframe tbody tr th {\n",
       "        vertical-align: top;\n",
       "    }\n",
       "\n",
       "    .dataframe thead th {\n",
       "        text-align: right;\n",
       "    }\n",
       "</style>\n",
       "<table border=\"1\" class=\"dataframe\">\n",
       "  <thead>\n",
       "    <tr style=\"text-align: right;\">\n",
       "      <th></th>\n",
       "      <th>Pic Name</th>\n",
       "      <th>number of horizontal rebars</th>\n",
       "      <th>number of vertical rebars</th>\n",
       "      <th>Total rebars</th>\n",
       "    </tr>\n",
       "  </thead>\n",
       "  <tbody>\n",
       "    <tr>\n",
       "      <th>0</th>\n",
       "      <td>20191024_100109_Depth_64669.png</td>\n",
       "      <td>8</td>\n",
       "      <td>9</td>\n",
       "      <td>17</td>\n",
       "    </tr>\n",
       "    <tr>\n",
       "      <th>11</th>\n",
       "      <td>20191024_10852_Depth_111976.png</td>\n",
       "      <td>4</td>\n",
       "      <td>11</td>\n",
       "      <td>15</td>\n",
       "    </tr>\n",
       "    <tr>\n",
       "      <th>16</th>\n",
       "      <td>20191024_100109_Depth_64588.png</td>\n",
       "      <td>8</td>\n",
       "      <td>9</td>\n",
       "      <td>17</td>\n",
       "    </tr>\n",
       "    <tr>\n",
       "      <th>17</th>\n",
       "      <td>20190531_103143_Depth_5539.png</td>\n",
       "      <td>7</td>\n",
       "      <td>30</td>\n",
       "      <td>37</td>\n",
       "    </tr>\n",
       "    <tr>\n",
       "      <th>20</th>\n",
       "      <td>20191024_10852_Depth_112041.png</td>\n",
       "      <td>4</td>\n",
       "      <td>11</td>\n",
       "      <td>15</td>\n",
       "    </tr>\n",
       "  </tbody>\n",
       "</table>\n",
       "</div>"
      ],
      "text/plain": [
       "                           Pic Name  number of horizontal rebars  \\\n",
       "0   20191024_100109_Depth_64669.png                            8   \n",
       "11  20191024_10852_Depth_111976.png                            4   \n",
       "16  20191024_100109_Depth_64588.png                            8   \n",
       "17   20190531_103143_Depth_5539.png                            7   \n",
       "20  20191024_10852_Depth_112041.png                            4   \n",
       "\n",
       "    number of vertical rebars  Total rebars  \n",
       "0                           9            17  \n",
       "11                         11            15  \n",
       "16                          9            17  \n",
       "17                         30            37  \n",
       "20                         11            15  "
      ]
     },
     "metadata": {},
     "output_type": "display_data"
    },
    {
     "name": "stdout",
     "output_type": "stream",
     "text": [
      "各DataFrame 大小: 689 517 172\n"
     ]
    }
   ],
   "source": [
    "traindf = df.sample(frac=0.75, random_state=777)   # 隨機將train.csv裡的檔案分成train:validation=3:1\n",
    "validf = df.drop(traindf.index)\n",
    "\n",
    "display(traindf.head())\n",
    "display(validf.head())\n",
    "print('各DataFrame 大小:', len(df), len(traindf), len(validf))"
   ]
  },
  {
   "cell_type": "code",
   "execution_count": 3,
   "metadata": {
    "colab": {},
    "colab_type": "code",
    "collapsed": true,
    "id": "ryPhGT8zw4ai"
   },
   "outputs": [
    {
     "data": {
      "text/html": [
       "<div>\n",
       "<style scoped>\n",
       "    .dataframe tbody tr th:only-of-type {\n",
       "        vertical-align: middle;\n",
       "    }\n",
       "\n",
       "    .dataframe tbody tr th {\n",
       "        vertical-align: top;\n",
       "    }\n",
       "\n",
       "    .dataframe thead th {\n",
       "        text-align: right;\n",
       "    }\n",
       "</style>\n",
       "<table border=\"1\" class=\"dataframe\">\n",
       "  <thead>\n",
       "    <tr style=\"text-align: right;\">\n",
       "      <th></th>\n",
       "      <th>Pic Name</th>\n",
       "    </tr>\n",
       "  </thead>\n",
       "  <tbody>\n",
       "    <tr>\n",
       "      <th>0</th>\n",
       "      <td>test_Depth_9280.png</td>\n",
       "    </tr>\n",
       "    <tr>\n",
       "      <th>1</th>\n",
       "      <td>20191024_10852_Depth_112034.png</td>\n",
       "    </tr>\n",
       "    <tr>\n",
       "      <th>2</th>\n",
       "      <td>test_Depth_14496.png</td>\n",
       "    </tr>\n",
       "    <tr>\n",
       "      <th>3</th>\n",
       "      <td>20190531_105600_Depth_5472.png</td>\n",
       "    </tr>\n",
       "    <tr>\n",
       "      <th>4</th>\n",
       "      <td>20190531_100725_Depth_20817.png</td>\n",
       "    </tr>\n",
       "  </tbody>\n",
       "</table>\n",
       "</div>"
      ],
      "text/plain": [
       "                          Pic Name\n",
       "0              test_Depth_9280.png\n",
       "1  20191024_10852_Depth_112034.png\n",
       "2             test_Depth_14496.png\n",
       "3   20190531_105600_Depth_5472.png\n",
       "4  20190531_100725_Depth_20817.png"
      ]
     },
     "execution_count": 3,
     "metadata": {},
     "output_type": "execute_result"
    }
   ],
   "source": [
    "testdf=pd.read_csv(\"./testName.csv\")\n",
    "# testdf=pd.read_csv(\"drive/My Drive/Colab Notebooks/Final Project/Task 1/testName.csv\")\n",
    "testdf.head()"
   ]
  },
  {
   "cell_type": "code",
   "execution_count": 24,
   "metadata": {
    "colab": {},
    "colab_type": "code",
    "id": "f5elrO8ilfgu"
   },
   "outputs": [
    {
     "name": "stdout",
     "output_type": "stream",
     "text": [
      "Found 517 validated image filenames.\n",
      "Found 172 validated image filenames.\n",
      "Found 101 validated image filenames.\n"
     ]
    }
   ],
   "source": [
    "import os\n",
    "from keras.preprocessing.image import ImageDataGenerator\n",
    "\n",
    "# base_dir = '.\\\\train_img'\n",
    "# train_dir = os.path.join(base_dir, 'train_img')\n",
    "train_dir = './totalDepthPic'\n",
    "valid_dir = './totalDepthPic'\n",
    "test_dir = './totalDepthPic'\n",
    "BATCH_SIZE = 50\n",
    "\n",
    "train_datagen = ImageDataGenerator(\n",
    "#         rotation_range=15,\n",
    "#         shear_range=0.1,\n",
    "#         zoom_range=0.2,\n",
    "#         horizontal_flip=True,\n",
    "        rescale=1./255.,\n",
    "        # validation_split=0.25\n",
    ")\n",
    "train_generator = train_datagen.flow_from_dataframe( \n",
    "    dataframe=traindf, \n",
    "    directory=train_dir, \n",
    "    x_col='Pic Name', \n",
    "    y_col='Total rebars', \n",
    "#     has_ext=False, \n",
    "#     subset=\"training\", \n",
    "    class_mode=\"raw\", \n",
    "    batch_size=BATCH_SIZE,\n",
    "    target_size=(150, 150)\n",
    "    ) \n",
    "vaild_datagen = ImageDataGenerator(\n",
    "        rescale=1./255.\n",
    ")\n",
    "validation_generator = vaild_datagen.flow_from_dataframe( \n",
    "    dataframe=validf, \n",
    "    directory=valid_dir,\n",
    "    x_col='Pic Name', \n",
    "    y_col='Total rebars', \n",
    "#     has_ext=False, \n",
    "#     subset=\"validation\", \n",
    "    class_mode=\"raw\",\n",
    "    batch_size=BATCH_SIZE,\n",
    "    target_size=(150, 150)\n",
    "    )\n",
    "\n",
    "test_datagen = ImageDataGenerator(rescale=1./255.)\n",
    "test_generator = test_datagen.flow_from_dataframe(\n",
    "    dataframe=testdf,\n",
    "    directory=test_dir,\n",
    "    x_col='Pic Name',\n",
    "    target_size=(150, 150),\n",
    "    color_mode='rgb',\n",
    "    shuffle=False,\n",
    "    class_mode=None\n",
    ")"
   ]
  },
  {
   "cell_type": "code",
   "execution_count": 0,
   "metadata": {
    "colab": {},
    "colab_type": "code",
    "id": "Dn_ES1BsbAHU"
   },
   "outputs": [],
   "source": [
    "for data_batch, labels_batch in train_generator:\n",
    "    print('data batch shape:', data_batch.shape)\n",
    "    print('labels batch shape:', labels_batch.shape)\n",
    "    break"
   ]
  },
  {
   "cell_type": "code",
   "execution_count": 25,
   "metadata": {
    "colab": {},
    "colab_type": "code",
    "id": "OdtXl0JF9cxx"
   },
   "outputs": [],
   "source": [
    "from keras.applications import VGG16\n",
    "\n",
    "conv_base = VGG16(weights='imagenet',\n",
    "                  include_top=False,\n",
    "                  input_shape=(150, 150, 3)\n",
    ")"
   ]
  },
  {
   "cell_type": "code",
   "execution_count": 0,
   "metadata": {
    "colab": {},
    "colab_type": "code",
    "id": "_Qk5zzB4bZoR"
   },
   "outputs": [],
   "source": [
    "conv_base.summary()"
   ]
  },
  {
   "cell_type": "code",
   "execution_count": 26,
   "metadata": {
    "colab": {},
    "colab_type": "code",
    "id": "pY5SLfcplfva"
   },
   "outputs": [
    {
     "name": "stdout",
     "output_type": "stream",
     "text": [
      "\n",
      "\n"
     ]
    }
   ],
   "source": [
    "import numpy as np\n",
    "\n",
    "def extract_features(generator, sample_count):\n",
    "    features = np.zeros(shape=(sample_count, 4, 4, 512))\n",
    "    labels = np.zeros(shape=(sample_count))\n",
    "    batch_size = generator.batch_size\n",
    "    # generator = datagen.flow_from_directory(\n",
    "    #     directory,\n",
    "    #     target_size=(150, 150),\n",
    "    #     batch_size=batch_size,\n",
    "    #     class_mode='binary')\n",
    "    i = 0\n",
    "\n",
    "    if generator.class_mode is None:\n",
    "      for inputs_batch in generator:\n",
    "        features_batch = conv_base.predict(inputs_batch)\n",
    "        features[i : (i + features_batch.shape[0])] = features_batch   # 避免最後一個batch的shape不合\n",
    "        i += features_batch.shape[0]\n",
    "        if i >= sample_count:\n",
    "          # Note that since generators yield data indefinitely in a loop,\n",
    "          # we must `break` after every image has been seen once.\n",
    "          break\n",
    "      return features\n",
    "    else:\n",
    "      for inputs_batch, labels_batch in generator:\n",
    "        features_batch = conv_base.predict(inputs_batch)\n",
    "        # features[i * batch_size : (i + 1) * batch_size] = features_batch\n",
    "        features[i : (i + features_batch.shape[0])] = features_batch   # 避免最後一個batch的shape不合\n",
    "        # labels[i * batch_size : (i + 1) * batch_size] = labels_batch\n",
    "        labels[i : (i + features_batch.shape[0])] = labels_batch\n",
    "        i += features_batch.shape[0]\n",
    "        if i >= sample_count:\n",
    "          break\n",
    "    print()\n",
    "    return features, labels\n",
    "\n",
    "train_features, train_labels = extract_features(train_generator, train_generator.samples)\n",
    "validation_features, validation_labels = extract_features(validation_generator, validation_generator.samples)\n",
    "test_features = extract_features(test_generator, test_generator.samples)"
   ]
  },
  {
   "cell_type": "code",
   "execution_count": 27,
   "metadata": {
    "colab": {},
    "colab_type": "code",
    "id": "KCTOrpf1lf3n"
   },
   "outputs": [],
   "source": [
    "train_features = np.reshape(train_features, (train_generator.samples, 4 * 4 * 512))\n",
    "validation_features = np.reshape(validation_features, (validation_generator.samples, 4 * 4 * 512))\n",
    "test_features = np.reshape(test_features, (test_generator.samples, 4 * 4 * 512))"
   ]
  },
  {
   "cell_type": "code",
   "execution_count": 40,
   "metadata": {
    "colab": {},
    "colab_type": "code",
    "id": "1vGPBqi8lf-V"
   },
   "outputs": [],
   "source": [
    "from keras import models\n",
    "from keras import layers\n",
    "from keras import regularizers\n",
    "\n",
    "model = models.Sequential()\n",
    "model.add(layers.Dense(512, activation='relu', input_dim=4 * 4 * 512))\n",
    "model.add(layers.Dropout(0.2))\n",
    "model.add(layers.Dense(512, activation='relu'))\n",
    "model.add(layers.Dropout(0.3))\n",
    "# model.add(layers.Dense(512, activation='relu'))\n",
    "# model.add(layers.Dropout(0.2))\n",
    "model.add(layers.Dense(1, activation=None))"
   ]
  },
  {
   "cell_type": "code",
   "execution_count": 41,
   "metadata": {
    "colab": {},
    "colab_type": "code",
    "id": "M2Qi3me7b6dn"
   },
   "outputs": [],
   "source": [
    "from keras import optimizers\n",
    "\n",
    "model.compile(optimizer=optimizers.RMSprop(lr=2e-5),\n",
    "                  loss='mse',\n",
    "                  metrics=['mse'])"
   ]
  },
  {
   "cell_type": "code",
   "execution_count": 42,
   "metadata": {
    "colab": {},
    "colab_type": "code",
    "id": "kDzDzETKt10v",
    "scrolled": true
   },
   "outputs": [
    {
     "name": "stdout",
     "output_type": "stream",
     "text": [
      "Train on 517 samples, validate on 172 samples\n",
      "Epoch 1/20\n",
      "517/517 [==============================] - 1s 1ms/step - loss: 395.2302 - mse: 395.2301 - val_loss: 311.1942 - val_mse: 311.1942\n",
      "Epoch 2/20\n",
      "517/517 [==============================] - 0s 652us/step - loss: 277.2810 - mse: 277.2809 - val_loss: 224.2213 - val_mse: 224.2213\n",
      "Epoch 3/20\n",
      "517/517 [==============================] - 0s 674us/step - loss: 202.6165 - mse: 202.6166 - val_loss: 157.2164 - val_mse: 157.2164\n",
      "Epoch 4/20\n",
      "517/517 [==============================] - 0s 704us/step - loss: 141.0548 - mse: 141.0548 - val_loss: 110.2595 - val_mse: 110.2595\n",
      "Epoch 5/20\n",
      "517/517 [==============================] - 0s 643us/step - loss: 100.3610 - mse: 100.3610 - val_loss: 81.8386 - val_mse: 81.8386\n",
      "Epoch 6/20\n",
      "517/517 [==============================] - 0s 793us/step - loss: 77.2317 - mse: 77.2317 - val_loss: 66.1243 - val_mse: 66.1243\n",
      "Epoch 7/20\n",
      "517/517 [==============================] - 0s 650us/step - loss: 63.1889 - mse: 63.1889 - val_loss: 56.3985 - val_mse: 56.3985\n",
      "Epoch 8/20\n",
      "517/517 [==============================] - 0s 669us/step - loss: 52.5534 - mse: 52.5534 - val_loss: 47.5804 - val_mse: 47.5804\n",
      "Epoch 9/20\n",
      "517/517 [==============================] - 0s 661us/step - loss: 45.8667 - mse: 45.8667 - val_loss: 39.3008 - val_mse: 39.3008\n",
      "Epoch 10/20\n",
      "517/517 [==============================] - 0s 653us/step - loss: 35.7101 - mse: 35.7101 - val_loss: 31.5815 - val_mse: 31.5815\n",
      "Epoch 11/20\n",
      "517/517 [==============================] - 0s 708us/step - loss: 30.6285 - mse: 30.6285 - val_loss: 24.8288 - val_mse: 24.8288\n",
      "Epoch 12/20\n",
      "517/517 [==============================] - 0s 640us/step - loss: 25.8276 - mse: 25.8276 - val_loss: 18.6270 - val_mse: 18.6270\n",
      "Epoch 13/20\n",
      "517/517 [==============================] - 0s 675us/step - loss: 19.3760 - mse: 19.3760 - val_loss: 14.2911 - val_mse: 14.2911\n",
      "Epoch 14/20\n",
      "517/517 [==============================] - 0s 662us/step - loss: 15.4562 - mse: 15.4562 - val_loss: 12.1169 - val_mse: 12.1169\n",
      "Epoch 15/20\n",
      "517/517 [==============================] - 0s 781us/step - loss: 13.9245 - mse: 13.9245 - val_loss: 9.1262 - val_mse: 9.1262\n",
      "Epoch 16/20\n",
      "517/517 [==============================] - 0s 733us/step - loss: 11.0808 - mse: 11.0808 - val_loss: 7.8601 - val_mse: 7.8601\n",
      "Epoch 17/20\n",
      "517/517 [==============================] - 0s 669us/step - loss: 11.0940 - mse: 11.0940 - val_loss: 6.9366 - val_mse: 6.9366\n",
      "Epoch 18/20\n",
      "517/517 [==============================] - 0s 696us/step - loss: 9.6368 - mse: 9.6368 - val_loss: 6.2397 - val_mse: 6.2397\n",
      "Epoch 19/20\n",
      "517/517 [==============================] - 0s 683us/step - loss: 9.0426 - mse: 9.0426 - val_loss: 5.6660 - val_mse: 5.6660\n",
      "Epoch 20/20\n",
      "517/517 [==============================] - 0s 672us/step - loss: 9.5152 - mse: 9.5152 - val_loss: 4.8046 - val_mse: 4.8046\n"
     ]
    }
   ],
   "source": [
    "history = model.fit(train_features, train_labels,\n",
    "                    epochs=20,\n",
    "                    batch_size=BATCH_SIZE,\n",
    "                    validation_data=(validation_features, validation_labels))"
   ]
  },
  {
   "cell_type": "code",
   "execution_count": 39,
   "metadata": {
    "colab": {},
    "colab_type": "code",
    "id": "ckZ-4DlvlgEy"
   },
   "outputs": [
    {
     "data": {
      "image/png": "[encoded data removed]",
      "text/plain": [
       "<Figure size 432x288 with 1 Axes>"
      ]
     },
     "metadata": {
      "needs_background": "light"
     },
     "output_type": "display_data"
    }
   ],
   "source": [
    "%matplotlib inline\n",
    "import matplotlib.pyplot as plt\n",
    "\n",
    "# acc = history.history['acc']\n",
    "# val_acc = history.history['val_acc']\n",
    "loss = history.history['loss']\n",
    "val_loss = history.history['val_loss']\n",
    "\n",
    "epochs = range(1, len(loss)+1)\n",
    "\n",
    "plt.plot(epochs, loss, 'bo', label='Training loss')\n",
    "plt.plot(epochs, val_loss, 'b', label='Validation loss')\n",
    "plt.title('Training and validation loss')\n",
    "plt.legend()\n",
    "\n",
    "plt.show()"
   ]
  },
  {
   "cell_type": "code",
   "execution_count": 36,
   "metadata": {
    "colab": {},
    "colab_type": "code",
    "collapsed": true,
    "id": "wRdxm7bUlSKu"
   },
   "outputs": [
    {
     "data": {
      "text/plain": [
       "array([[22.90557  ],\n",
       "       [14.553358 ],\n",
       "       [20.961515 ],\n",
       "       [29.105782 ],\n",
       "       [13.36991  ],\n",
       "       [14.622567 ],\n",
       "       [32.398743 ],\n",
       "       [14.86243  ],\n",
       "       [14.878482 ],\n",
       "       [14.738715 ],\n",
       "       [33.069874 ],\n",
       "       [16.517498 ],\n",
       "       [14.633344 ],\n",
       "       [23.48248  ],\n",
       "       [28.033438 ],\n",
       "       [10.868264 ],\n",
       "       [14.438588 ],\n",
       "       [ 8.946046 ],\n",
       "       [29.16953  ],\n",
       "       [14.274741 ],\n",
       "       [13.143847 ],\n",
       "       [25.087162 ],\n",
       "       [13.414835 ],\n",
       "       [23.515106 ],\n",
       "       [22.187988 ],\n",
       "       [16.251276 ],\n",
       "       [36.05144  ],\n",
       "       [14.906457 ],\n",
       "       [27.406075 ],\n",
       "       [29.51313  ],\n",
       "       [14.495572 ],\n",
       "       [13.781276 ],\n",
       "       [23.28255  ],\n",
       "       [14.145233 ],\n",
       "       [16.654295 ],\n",
       "       [28.10934  ],\n",
       "       [17.030207 ],\n",
       "       [16.411877 ],\n",
       "       [13.733358 ],\n",
       "       [16.587059 ],\n",
       "       [23.500586 ],\n",
       "       [28.951965 ],\n",
       "       [14.589109 ],\n",
       "       [14.17427  ],\n",
       "       [16.001726 ],\n",
       "       [14.954951 ],\n",
       "       [34.4818   ],\n",
       "       [37.131664 ],\n",
       "       [26.60608  ],\n",
       "       [36.577225 ],\n",
       "       [27.825071 ],\n",
       "       [12.62207  ],\n",
       "       [36.04737  ],\n",
       "       [27.501122 ],\n",
       "       [23.092945 ],\n",
       "       [14.058924 ],\n",
       "       [14.241771 ],\n",
       "       [14.491841 ],\n",
       "       [13.073888 ],\n",
       "       [19.774714 ],\n",
       "       [24.164474 ],\n",
       "       [13.660486 ],\n",
       "       [12.654754 ],\n",
       "       [29.024923 ],\n",
       "       [11.235482 ],\n",
       "       [24.019022 ],\n",
       "       [25.17616  ],\n",
       "       [25.945358 ],\n",
       "       [13.167212 ],\n",
       "       [34.803616 ],\n",
       "       [24.592983 ],\n",
       "       [14.6060705],\n",
       "       [28.671396 ],\n",
       "       [13.102034 ],\n",
       "       [37.74909  ],\n",
       "       [35.442066 ],\n",
       "       [23.611671 ],\n",
       "       [14.570147 ],\n",
       "       [17.112751 ],\n",
       "       [14.175378 ],\n",
       "       [14.313738 ],\n",
       "       [24.243422 ],\n",
       "       [14.677167 ],\n",
       "       [33.355198 ],\n",
       "       [15.305329 ],\n",
       "       [28.695547 ],\n",
       "       [13.134266 ],\n",
       "       [23.639734 ],\n",
       "       [12.590423 ],\n",
       "       [36.66475  ],\n",
       "       [34.116184 ],\n",
       "       [ 7.4720135],\n",
       "       [16.466461 ],\n",
       "       [16.750116 ],\n",
       "       [28.210367 ],\n",
       "       [26.43565  ],\n",
       "       [23.832403 ],\n",
       "       [26.289762 ],\n",
       "       [ 9.286155 ],\n",
       "       [13.378467 ],\n",
       "       [15.000206 ]], dtype=float32)"
      ]
     },
     "execution_count": 36,
     "metadata": {},
     "output_type": "execute_result"
    }
   ],
   "source": [
    "pred = model.predict(test_features)\n",
    "pred"
   ]
  },
  {
   "cell_type": "code",
   "execution_count": 37,
   "metadata": {
    "colab": {
     "base_uri": "https://localhost:8080/",
     "height": 252
    },
    "colab_type": "code",
    "executionInfo": {
     "elapsed": 1650,
     "status": "ok",
     "timestamp": 1575989093382,
     "user": {
      "displayName": "林亭佑",
      "photoUrl": "https://lh3.googleusercontent.com/a-/AAuE7mCa4KdkqST8f-rHXHm_rjYPP9hYtgmAqB7qaLgX=s64",
      "userId": "15671635726506356258"
     },
     "user_tz": -480
    },
    "id": "tlhQcepJlSpe",
    "outputId": "5ef120fd-0c14-40ce-d513-1d0b5942239b"
   },
   "outputs": [
    {
     "data": {
      "text/html": [
       "<div>\n",
       "<style scoped>\n",
       "    .dataframe tbody tr th:only-of-type {\n",
       "        vertical-align: middle;\n",
       "    }\n",
       "\n",
       "    .dataframe tbody tr th {\n",
       "        vertical-align: top;\n",
       "    }\n",
       "\n",
       "    .dataframe thead th {\n",
       "        text-align: right;\n",
       "    }\n",
       "</style>\n",
       "<table border=\"1\" class=\"dataframe\">\n",
       "  <thead>\n",
       "    <tr style=\"text-align: right;\">\n",
       "      <th></th>\n",
       "      <th>Pic Name</th>\n",
       "      <th>Total rebars</th>\n",
       "    </tr>\n",
       "  </thead>\n",
       "  <tbody>\n",
       "    <tr>\n",
       "      <th>0</th>\n",
       "      <td>test_Depth_9280.png</td>\n",
       "      <td>22</td>\n",
       "    </tr>\n",
       "    <tr>\n",
       "      <th>1</th>\n",
       "      <td>20191024_10852_Depth_112034.png</td>\n",
       "      <td>14</td>\n",
       "    </tr>\n",
       "    <tr>\n",
       "      <th>2</th>\n",
       "      <td>test_Depth_14496.png</td>\n",
       "      <td>20</td>\n",
       "    </tr>\n",
       "    <tr>\n",
       "      <th>3</th>\n",
       "      <td>20190531_105600_Depth_5472.png</td>\n",
       "      <td>29</td>\n",
       "    </tr>\n",
       "    <tr>\n",
       "      <th>4</th>\n",
       "      <td>20190531_100725_Depth_20817.png</td>\n",
       "      <td>13</td>\n",
       "    </tr>\n",
       "  </tbody>\n",
       "</table>\n",
       "</div>"
      ],
      "text/plain": [
       "                          Pic Name  Total rebars\n",
       "0              test_Depth_9280.png            22\n",
       "1  20191024_10852_Depth_112034.png            14\n",
       "2             test_Depth_14496.png            20\n",
       "3   20190531_105600_Depth_5472.png            29\n",
       "4  20190531_100725_Depth_20817.png            13"
      ]
     },
     "execution_count": 37,
     "metadata": {},
     "output_type": "execute_result"
    }
   ],
   "source": [
    "pred_int = pred.astype('int')\n",
    "testdf['Total rebars'] = pred_int\n",
    "testdf.head()"
   ]
  },
  {
   "cell_type": "code",
   "execution_count": 38,
   "metadata": {
    "colab": {},
    "colab_type": "code",
    "id": "NGz9SuTNvrg7"
   },
   "outputs": [],
   "source": [
    "testdf.to_csv(\"./Result/yoresult24.csv\", index=False, encoding='utf-8')\n",
    "# testdf.to_csv(\"drive/My Drive/Colab Notebooks/Final Project/Task 1/Result/result18.csv\", index=False, encoding='utf-8')"
   ]
  },
  {
   "cell_type": "code",
   "execution_count": null,
   "metadata": {},
   "outputs": [],
   "source": [
    "model.save('task1_1220.h5')"
   ]
  }
 ],
 "metadata": {
  "accelerator": "GPU",
  "colab": {
   "collapsed_sections": [],
   "name": "yo_Task1_VGG16_extract.ipynb",
   "provenance": []
  },
  "kernelspec": {
   "display_name": "Python 3",
   "language": "python",
   "name": "python3"
  },
  "language_info": {
   "codemirror_mode": {
    "name": "ipython",
    "version": 3
   },
   "file_extension": ".py",
   "mimetype": "text/x-python",
   "name": "python",
   "nbconvert_exporter": "python",
   "pygments_lexer": "ipython3",
   "version": "3.7.4"
  }
 },
 "nbformat": 4,
 "nbformat_minor": 1
}
