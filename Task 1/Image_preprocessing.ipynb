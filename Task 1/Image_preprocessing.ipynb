{
 "cells": [
  {
   "cell_type": "code",
   "execution_count": 9,
   "metadata": {},
   "outputs": [],
   "source": [
    "import shutil    #這個庫複製檔案比較省事\n",
    "import pandas as pd\n",
    "\n",
    "def objFileName():\n",
    "    '''\n",
    "    生成檔名列表\n",
    "    :return:\n",
    "    '''\n",
    "    df = pd.read_csv(\"./train_add2.csv\")\n",
    "    local_file_name_list = df.loc[df['Total rebars']>=20, 'Pic Name']\n",
    "    new_df = df.loc[df['Total rebars']>=20, ['Pic Name', 'Total rebars']]\n",
    "    new_df['Pic Name'] = \"rotate_\" + new_df['Pic Name']\n",
    "    new_df.to_csv(\"./copied img/copyf.csv\", index=False, encoding='utf-8')\n",
    "#     #指定名單\n",
    "#     obj_name_list = []\n",
    "    \n",
    "#     for i in open(local_file_name_list, 'r'):\n",
    "#         obj_name_list.append(i.replace('\\n',''))\n",
    "    \n",
    "#     return obj_name_list\n",
    "    return local_file_name_list\n",
    "\n",
    "def copy_img():\n",
    "    '''\n",
    "    複製、重新命名、貼上檔案\n",
    "    :return:\n",
    "    '''\n",
    "    local_img_name = \"./totalDepthPic\"\n",
    "    #指定要複製的圖片路徑\n",
    "    path = \"./copied img\"\n",
    "    #指定存放圖片的目錄\n",
    "    for i in objFileName():\n",
    "        new_obj_name = \"rotate_\" + i\n",
    "        if os.path.isfile(local_img_name+'/'+i):\n",
    "            shutil.copy(local_img_name+'/'+i, path+'/'+new_obj_name)"
   ]
  },
  {
   "cell_type": "code",
   "execution_count": 6,
   "metadata": {
    "scrolled": true
   },
   "outputs": [],
   "source": [
    "copy_img()"
   ]
  }
 ],
 "metadata": {
  "kernelspec": {
   "display_name": "Python 3",
   "language": "python",
   "name": "python3"
  },
  "language_info": {
   "codemirror_mode": {
    "name": "ipython",
    "version": 3
   },
   "file_extension": ".py",
   "mimetype": "text/x-python",
   "name": "python",
   "nbconvert_exporter": "python",
   "pygments_lexer": "ipython3",
   "version": "3.7.4"
  }
 },
 "nbformat": 4,
 "nbformat_minor": 2
}
