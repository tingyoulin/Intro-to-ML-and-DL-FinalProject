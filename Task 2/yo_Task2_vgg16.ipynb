{
 "cells": [
  {
   "cell_type": "code",
   "execution_count": null,
   "metadata": {
    "colab": {},
    "colab_type": "code",
    "id": "7IRrE6FromTx"
   },
   "outputs": [],
   "source": [
    "from google.colab import drive\n",
    "drive.mount('/content/drive')"
   ]
  },
  {
   "cell_type": "markdown",
   "metadata": {
    "colab_type": "text",
    "id": "ISEt0kABn2Q8"
   },
   "source": [
    "Data Preprocessing"
   ]
  },
  {
   "cell_type": "code",
   "execution_count": null,
   "metadata": {
    "colab": {},
    "colab_type": "code",
    "id": "qO5jOdDvn2Q-"
   },
   "outputs": [],
   "source": [
    "import pandas as pd\n",
    "# df=pd.read_csv('drive/My Drive/Colab Notebooks/Final Project/Task 2/train.csv')\n",
    "df=pd.read_csv('train.csv')   # my PC\n",
    "df['label'] = df['label'].astype(str)\n",
    "df.head()"
   ]
  },
  {
   "cell_type": "code",
   "execution_count": null,
   "metadata": {
    "colab": {
     "base_uri": "https://localhost:8080/",
     "height": 397
    },
    "colab_type": "code",
    "executionInfo": {
     "elapsed": 1055,
     "status": "ok",
     "timestamp": 1576666273462,
     "user": {
      "displayName": "林亭佑",
      "photoUrl": "https://lh3.googleusercontent.com/a-/AAuE7mCa4KdkqST8f-rHXHm_rjYPP9hYtgmAqB7qaLgX=s64",
      "userId": "15671635726506356258"
     },
     "user_tz": -480
    },
    "id": "XhrYLwMfmzYA",
    "outputId": "3a07af58-8b83-4677-eed9-857f6b0a8ef4"
   },
   "outputs": [],
   "source": [
    "traindf = df.sample(frac=0.75, random_state=777)   # 隨機將train.csv裡的檔案分成train:validation=3:1\n",
    "validf = df.drop(traindf.index)\n",
    "\n",
    "display(traindf.head())\n",
    "display(validf.head())\n",
    "print('各DataFrame 大小:', len(df), len(traindf), len(validf))"
   ]
  },
  {
   "cell_type": "code",
   "execution_count": null,
   "metadata": {
    "colab": {
     "base_uri": "https://localhost:8080/",
     "height": 69
    },
    "colab_type": "code",
    "executionInfo": {
     "elapsed": 3526,
     "status": "ok",
     "timestamp": 1576666878590,
     "user": {
      "displayName": "林亭佑",
      "photoUrl": "https://lh3.googleusercontent.com/a-/AAuE7mCa4KdkqST8f-rHXHm_rjYPP9hYtgmAqB7qaLgX=s64",
      "userId": "15671635726506356258"
     },
     "user_tz": -480
    },
    "id": "wqGBrII-n2RC",
    "outputId": "f7311dea-f837-4b8e-8097-f17ca94ff8d9"
   },
   "outputs": [],
   "source": [
    "import os\n",
    "from keras.preprocessing.image import ImageDataGenerator\n",
    "\n",
    "# base_dir = \"drive/My Drive/Colab Notebooks/Final Project/Task 2\"   # Colab 路徑\n",
    "base_dir = os.getcwd()   # My PC路徑 (notebook當前路徑)\n",
    "train_dir = os.path.join(base_dir, 'train_img')\n",
    "valid_dir = os.path.join(base_dir, 'train_img')\n",
    "test_dir = os.path.join(base_dir, 'test_img')\n",
    "\n",
    "BATCH_SIZE = 50\n",
    "\n",
    "train_datagen = ImageDataGenerator(  # data augmentation\n",
    "        rotation_range=15,\n",
    "        shear_range=0.1,\n",
    "        zoom_range=0.2,\n",
    "        horizontal_flip=True,\n",
    "        rescale=1./255., \n",
    "        # validation_split=0.25\n",
    ")\n",
    "train_generator = train_datagen.flow_from_dataframe(\n",
    "    dataframe=traindf,\n",
    "    directory=train_dir,\n",
    "    x_col='image',\n",
    "    y_col='label',\n",
    "#     has_ext=False,\n",
    "#     subset=\"training\",\n",
    "    class_mode=\"binary\",\n",
    "    batch_size=BATCH_SIZE,\n",
    "    target_size=(224, 224)\n",
    ")\n",
    "\n",
    "vaild_datagen = ImageDataGenerator(\n",
    "        rescale=1./255.\n",
    ")\n",
    "validation_generator = vaild_datagen.flow_from_dataframe( \n",
    "    dataframe=validf,\n",
    "    directory=valid_dir,\n",
    "    x_col='image',\n",
    "    y_col='label',\n",
    "#     has_ext=False,\n",
    "#     subset=\"validation\",\n",
    "    class_mode=\"binary\",\n",
    "    batch_size=BATCH_SIZE,\n",
    "    target_size=(224, 224)\n",
    ")\n",
    "\n",
    "test_datagen=ImageDataGenerator(rescale=1./255)\n",
    "test_generator = test_datagen.flow_from_directory(\n",
    "    test_dir,\n",
    "    target_size=(224, 224),\n",
    "    color_mode='rgb',\n",
    "    shuffle=False,\n",
    "    class_mode=None\n",
    ")"
   ]
  },
  {
   "cell_type": "markdown",
   "metadata": {
    "colab_type": "text",
    "id": "XUBNEyNen2RE"
   },
   "source": [
    "Model"
   ]
  },
  {
   "cell_type": "code",
   "execution_count": null,
   "metadata": {
    "colab": {},
    "colab_type": "code",
    "id": "FTc8L8SJn2RE"
   },
   "outputs": [],
   "source": [
    "from keras.applications import VGG16\n",
    "\n",
    "conv_base = VGG16(weights='imagenet',\n",
    "                  include_top=False,\n",
    "                  input_shape=(224, 224, 3)\n",
    ")"
   ]
  },
  {
   "cell_type": "code",
   "execution_count": null,
   "metadata": {
    "colab": {},
    "colab_type": "code",
    "id": "7uNpVOGRmZ8l",
    "scrolled": true
   },
   "outputs": [],
   "source": [
    "conv_base.summary()"
   ]
  },
  {
   "cell_type": "code",
   "execution_count": null,
   "metadata": {
    "colab": {
     "base_uri": "https://localhost:8080/",
     "height": 417
    },
    "colab_type": "code",
    "executionInfo": {
     "elapsed": 503830,
     "status": "error",
     "timestamp": 1576667666775,
     "user": {
      "displayName": "林亭佑",
      "photoUrl": "https://lh3.googleusercontent.com/a-/AAuE7mCa4KdkqST8f-rHXHm_rjYPP9hYtgmAqB7qaLgX=s64",
      "userId": "15671635726506356258"
     },
     "user_tz": -480
    },
    "id": "bNv_HoBcpS5Z",
    "outputId": "d0dc74dc-192f-4151-8ea0-112209c690e7"
   },
   "outputs": [],
   "source": [
    "import numpy as np\n",
    "\n",
    "def extract_features(generator, sample_count):\n",
    "    features = np.zeros(shape=(sample_count, 7, 7, 512))\n",
    "    labels = np.zeros(shape=(sample_count))\n",
    "    batch_size = generator.batch_size\n",
    "    # generator = datagen.flow_from_directory(\n",
    "    #     directory,\n",
    "    #     target_size=(150, 150),\n",
    "    #     batch_size=batch_size,\n",
    "    #     class_mode='binary')\n",
    "    i = 0\n",
    "\n",
    "    if generator.class_mode is None:\n",
    "        for inputs_batch in generator:\n",
    "            features_batch = conv_base.predict(inputs_batch)\n",
    "            print(inputs_batch.shape, end=' ')\n",
    "            features[i : (i + features_batch.shape[0])] = features_batch   # 避免最後一個batch的shape不合\n",
    "            i += features_batch.shape[0]\n",
    "            if i >= sample_count:\n",
    "              # Note that since generators yield data indefinitely in a loop,\n",
    "              # we must `break` after every image has been seen once.\n",
    "                break\n",
    "        return features\n",
    "    else:\n",
    "        for inputs_batch, labels_batch in generator:\n",
    "            features_batch = conv_base.predict(inputs_batch)\n",
    "            print(inputs_batch.shape, end=' ')\n",
    "            # features[i * batch_size : (i + 1) * batch_size] = features_batch\n",
    "            features[i : (i + features_batch.shape[0])] = features_batch   # 避免最後一個batch的shape不合\n",
    "            # labels[i * batch_size : (i + 1) * batch_size] = labels_batch\n",
    "            labels[i : (i + features_batch.shape[0])] = labels_batch\n",
    "            i += features_batch.shape[0]\n",
    "            if i >= sample_count:\n",
    "                break\n",
    "    print()\n",
    "    return features, labels\n",
    "\n",
    "train_features, train_labels = extract_features(train_generator, train_generator.samples)\n",
    "validation_features, validation_labels = extract_features(validation_generator, validation_generator.samples)\n",
    "test_features = extract_features(test_generator, test_generator.samples)"
   ]
  },
  {
   "cell_type": "code",
   "execution_count": null,
   "metadata": {
    "colab": {},
    "colab_type": "code",
    "id": "G-4jsxobpcvy"
   },
   "outputs": [],
   "source": [
    "train_features = np.reshape(train_features, (train_generator.samples, 7*7*512))\n",
    "validation_features = np.reshape(validation_features, (validation_generator.samples, 7*7*512))\n",
    "test_features = np.reshape(test_features, (test_generator.samples, 7*7*512))"
   ]
  },
  {
   "cell_type": "code",
   "execution_count": null,
   "metadata": {
    "colab": {},
    "colab_type": "code",
    "id": "nxjkcmNApiOC"
   },
   "outputs": [],
   "source": [
    "from keras import models\n",
    "from keras import layers\n",
    "from keras import optimizers\n",
    "from keras import regularizers\n",
    "\n",
    "model = models.Sequential()\n",
    "model.add(layers.Dense(512, activation='relu', input_dim=7*7*512))\n",
    "model.add(layers.Dropout(0.5))\n",
    "model.add(layers.Dense(512, activation='relu'))\n",
    "model.add(layers.Dropout(0.5))\n",
    "model.add(layers.Dense(512, activation='relu'))\n",
    "model.add(layers.Dropout(0.5))\n",
    "model.add(layers.Dense(1, activation='sigmoid'))"
   ]
  },
  {
   "cell_type": "code",
   "execution_count": null,
   "metadata": {
    "colab": {},
    "colab_type": "code",
    "id": "Sj9uquG3n2RI"
   },
   "outputs": [],
   "source": [
    "from keras import optimizers\n",
    "\n",
    "model.compile(loss='binary_crossentropy',\n",
    "              optimizer=optimizers.RMSprop(lr=1e-4),\n",
    "              metrics=['acc'])"
   ]
  },
  {
   "cell_type": "markdown",
   "metadata": {
    "colab_type": "text",
    "id": "sSYbYdbVn2RK"
   },
   "source": [
    "Training"
   ]
  },
  {
   "cell_type": "code",
   "execution_count": null,
   "metadata": {
    "colab": {},
    "colab_type": "code",
    "id": "3bayPaJSn2RM",
    "scrolled": true
   },
   "outputs": [],
   "source": [
    "history = model.fit(\n",
    "    train_features, \n",
    "    train_labels,\n",
    "    epochs=10,\n",
    "    batch_size=BATCH_SIZE,\n",
    "    validation_data=(validation_features, validation_labels)\n",
    ")"
   ]
  },
  {
   "cell_type": "code",
   "execution_count": null,
   "metadata": {
    "colab": {},
    "colab_type": "code",
    "id": "DPmga3Msn2RR"
   },
   "outputs": [],
   "source": [
    "import matplotlib.pyplot as plt\n",
    "%matplotlib inline\n",
    "\n",
    "acc = history.history['acc']\n",
    "val_acc = history.history['val_acc']\n",
    "loss = history.history['loss']\n",
    "val_loss = history.history['val_loss']\n",
    "\n",
    "epochs = range(1, len(acc)+1)\n",
    "\n",
    "plt.plot(epochs, acc, 'bo', label='Training acc')\n",
    "plt.plot(epochs, val_acc, 'b', label='Validation acc')\n",
    "plt.title('Training and validation accuracy')\n",
    "plt.legend()\n",
    "# plt.savefig('accu.png')\n",
    "\n",
    "plt.figure()\n",
    "\n",
    "plt.plot(epochs, loss, 'bo', label='Training loss')\n",
    "plt.plot(epochs, val_loss, 'b', label='Validation loss')\n",
    "plt.title('Training and validation loss')\n",
    "plt.legend()\n",
    "# plt.savefig('loss.png')\n",
    "\n",
    "plt.show()"
   ]
  },
  {
   "cell_type": "markdown",
   "metadata": {
    "colab_type": "text",
    "id": "J2DwwYD8n2RV"
   },
   "source": [
    "Test"
   ]
  },
  {
   "cell_type": "code",
   "execution_count": null,
   "metadata": {
    "colab": {},
    "colab_type": "code",
    "id": "pAtExsu9n2RY"
   },
   "outputs": [],
   "source": [
    "def to_class(i):              # 小數轉成整數\n",
    "    new = list()\n",
    "    for e in i:\n",
    "        if e >= 0.5:\n",
    "            new.append(1)\n",
    "        else:\n",
    "            new.append(0)\n",
    "    return new"
   ]
  },
  {
   "cell_type": "code",
   "execution_count": null,
   "metadata": {
    "colab": {},
    "colab_type": "code",
    "id": "UnZ2gwItn2Ri",
    "scrolled": true
   },
   "outputs": [],
   "source": [
    "def revise(x):                  # 改filename (留\\\\後面的檔名就好)\n",
    "    return x.split('\\\\')[1]"
   ]
  },
  {
   "cell_type": "code",
   "execution_count": null,
   "metadata": {
    "colab": {},
    "colab_type": "code",
    "id": "HrDmnFHGn2Ra"
   },
   "outputs": [],
   "source": [
    "pred = model.predict(test_features)\n",
    "print(len(pred))\n",
    "# print(pred)\n",
    "\n",
    "classes = to_class(list(pred.reshape(-1)))\n",
    "\n",
    "filenames = test_generator.filenames    # Get filenames (set shuffle=false in generator is important)"
   ]
  },
  {
   "cell_type": "code",
   "execution_count": null,
   "metadata": {
    "colab": {},
    "colab_type": "code",
    "id": "sdCUMHkLn2Rc",
    "outputId": "513fa48b-3928-455b-94ee-d134c51a3d1a"
   },
   "outputs": [],
   "source": [
    "np.array(classes).mean()"
   ]
  },
  {
   "cell_type": "code",
   "execution_count": null,
   "metadata": {
    "colab": {},
    "colab_type": "code",
    "id": "coCRZNKen2Re"
   },
   "outputs": [],
   "source": [
    "# 還沒試 rotation等等\n",
    "# https://medium.com/@jackycsie/%E5%B0%8F%E6%95%B8%E6%93%9A%E7%9A%84%E9%80%86%E8%A5%B2-c04fee852539\n",
    "# ReduceLROnPlateau\n",
    "#　https://hackmd.io/@allen108108/SyCsOIkxB"
   ]
  },
  {
   "cell_type": "code",
   "execution_count": null,
   "metadata": {
    "colab": {},
    "colab_type": "code",
    "id": "m4ZUOrMTn2Rg",
    "scrolled": true
   },
   "outputs": [],
   "source": [
    "output = pd.DataFrame(np.array([filenames, classes]).transpose(), columns=['image', 'label'])\n",
    "output.head()"
   ]
  },
  {
   "cell_type": "code",
   "execution_count": null,
   "metadata": {
    "colab": {},
    "colab_type": "code",
    "id": "_85cFpnHn2Rk",
    "scrolled": true
   },
   "outputs": [],
   "source": [
    "output['image'] = output['image'].apply(revise)\n",
    "output.head()"
   ]
  },
  {
   "cell_type": "code",
   "execution_count": null,
   "metadata": {
    "colab": {},
    "colab_type": "code",
    "id": "oMYmLx8Sn2Rm"
   },
   "outputs": [],
   "source": [
    "# output.to_csv('drive/My Drive/Colab Notebooks/Final Project/Task 2/Result/result5.csv', index=False, encoding='utf-8')\n",
    "output.to_csv('Result/result6.csv', index=False, encoding='utf-8')  # my PC"
   ]
  },
  {
   "cell_type": "code",
   "execution_count": null,
   "metadata": {
    "colab": {},
    "colab_type": "code",
    "id": "pAxX04sxn2RO"
   },
   "outputs": [],
   "source": [
    "model.save('task2_1218.h5')"
   ]
  }
 ],
 "metadata": {
  "accelerator": "GPU",
  "colab": {
   "collapsed_sections": [],
   "name": "yo_Task2_vgg16.ipynb",
   "provenance": []
  },
  "kernelspec": {
   "display_name": "Python 3",
   "language": "python",
   "name": "python3"
  },
  "language_info": {
   "codemirror_mode": {
    "name": "ipython",
    "version": 3
   },
   "file_extension": ".py",
   "mimetype": "text/x-python",
   "name": "python",
   "nbconvert_exporter": "python",
   "pygments_lexer": "ipython3",
   "version": "3.7.4"
  }
 },
 "nbformat": 4,
 "nbformat_minor": 1
}
